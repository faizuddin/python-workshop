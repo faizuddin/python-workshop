{
 "cells": [
  {
   "cell_type": "markdown",
   "metadata": {},
   "source": [
    "# Introduction to NumPy\n",
    "\n",
    "## What is NumPy? \n",
    "NumPy is a general-purpose array-processing package. It provides a high-performance multidimensional array object and tools for working with these arrays. It is the fundamental package for scientific computing with Python. It is open-source software.\n",
    "\n",
    "## Features of NumPy\n",
    "NumPy has various features including these important ones:\n",
    "* A powerful N-dimensional array object\n",
    "* Sophisticated (broadcasting) functions\n",
    "* Tools for integrating C/C++ and Fortran code\n",
    "* Useful linear algebra, Fourier transform, and random number capabilities\n",
    "\n",
    "Besides its obvious scientific uses, NumPy in Python can also be used as an efficient multi-dimensional container of generic data. Arbitrary data types can be defined using Numpy which allows NumPy to seamlessly and speedily integrate with a wide variety of databases.\n",
    "\n",
    "## Install Python NumPy\n",
    "\n",
    "Numpy can be installed for Mac and Linux users in a number of ways:\n",
    "\n",
    "1. Using `conda` package manager: `conda install numpy`\n",
    "2. Anaconda Navigator\n",
    "3. Using `pip` command: `pip install numpy`\n",
    "\n",
    "## Arrays in NumPy\n",
    "NumPy's main object is the homogeneous multidimensional array.\n",
    "\n",
    "* It is a table of elements (usually numbers), all of the same type, indexed by a tuple of positive integers.\n",
    "* In NumPy, dimensions are called axes. The number of axes is rank.\n",
    "* NumPy's array class is called `ndarray`. It is also known by the alias **array**.\n",
    "\n",
    "### Example\n",
    "In the following example, we are creating a two-dimensional array that has the **rank** of 2 as it has 2 **axes**. The first axis(dimension) is of length 2, i.e., the number of rows, and the second axis(dimension) is of length 3, i.e., the number of columns. The overall shape of the array can be represented as (2, 3)"
   ]
  },
  {
   "cell_type": "code",
   "execution_count": 4,
   "metadata": {},
   "outputs": [
    {
     "name": "stdout",
     "output_type": "stream",
     "text": [
      "Array:\n",
      " [[1 2 3]\n",
      " [4 2 5]]\n"
     ]
    }
   ],
   "source": [
    "import numpy as np \n",
    "\n",
    "# Create array object \n",
    "arr = np.array( [[ 1, 2, 3], \n",
    "\t\t\t\t[ 4, 2, 5]] ) \n",
    "\n",
    "print(\"Array:\\n\", arr)"
   ]
  },
  {
   "cell_type": "markdown",
   "metadata": {},
   "source": [
    "Print the type of `arr` object "
   ]
  },
  {
   "cell_type": "code",
   "execution_count": 4,
   "metadata": {},
   "outputs": [
    {
     "name": "stdout",
     "output_type": "stream",
     "text": [
      "Array is of type:  <class 'numpy.ndarray'>\n"
     ]
    }
   ],
   "source": [
    "\n",
    "print(\"Array is of type: \", type(arr)) "
   ]
  },
  {
   "cell_type": "markdown",
   "metadata": {},
   "source": [
    "Print array dimensions (axes) \n"
   ]
  },
  {
   "cell_type": "code",
   "execution_count": 2,
   "metadata": {},
   "outputs": [
    {
     "name": "stdout",
     "output_type": "stream",
     "text": [
      "No. of dimensions:  2\n"
     ]
    }
   ],
   "source": [
    "print(\"No. of dimensions: \", arr.ndim) "
   ]
  },
  {
   "cell_type": "markdown",
   "metadata": {},
   "source": [
    "Print shape of array \n"
   ]
  },
  {
   "cell_type": "code",
   "execution_count": 3,
   "metadata": {},
   "outputs": [
    {
     "name": "stdout",
     "output_type": "stream",
     "text": [
      "Shape of array:  (2, 3)\n"
     ]
    }
   ],
   "source": [
    "print(\"Shape of array: \", arr.shape) "
   ]
  },
  {
   "cell_type": "markdown",
   "metadata": {},
   "source": [
    "Print size (total number of elements) of array \n"
   ]
  },
  {
   "cell_type": "code",
   "execution_count": 5,
   "metadata": {},
   "outputs": [
    {
     "name": "stdout",
     "output_type": "stream",
     "text": [
      "Size of array:  6\n"
     ]
    }
   ],
   "source": [
    "print(\"Size of array: \", arr.size) "
   ]
  },
  {
   "cell_type": "markdown",
   "metadata": {},
   "source": [
    "\n",
    "Print the type of elements in array \n"
   ]
  },
  {
   "cell_type": "code",
   "execution_count": 6,
   "metadata": {},
   "outputs": [
    {
     "name": "stdout",
     "output_type": "stream",
     "text": [
      "Array stores elements of type:  int64\n"
     ]
    }
   ],
   "source": [
    "print(\"Array stores elements of type: \", arr.dtype)"
   ]
  },
  {
   "cell_type": "markdown",
   "metadata": {},
   "source": [
    "## NumPy Array Creation\n",
    "\n",
    "There are various ways of Numpy array creation in Python. They are as follows:\n",
    "\n",
    "### Array from list of tuple\n",
    "You can create an array from a regular Python list or tuple using the `array()` function. The type of the resulting array is deduced from the type of the elements in the sequences. Let’s see this implementation:"
   ]
  },
  {
   "cell_type": "code",
   "execution_count": 7,
   "metadata": {},
   "outputs": [
    {
     "name": "stdout",
     "output_type": "stream",
     "text": [
      "Array created using passed list:\n",
      " [[1. 2. 4.]\n",
      " [5. 8. 7.]]\n",
      "\n",
      "Array created using passed tuple:\n",
      " [1 3 2]\n"
     ]
    }
   ],
   "source": [
    "import numpy as np \n",
    "\n",
    "# Creating array from list with type float \n",
    "a = np.array([[1, 2, 4], [5, 8, 7]], dtype = 'float') \n",
    "print (\"Array created using passed list:\\n\", a) \n",
    "\n",
    "# Creating array from tuple \n",
    "b = np.array((1 , 3, 2)) \n",
    "print (\"\\nArray created using passed tuple:\\n\", b)\n"
   ]
  },
  {
   "cell_type": "code",
   "execution_count": 8,
   "metadata": {},
   "outputs": [
    {
     "name": "stdout",
     "output_type": "stream",
     "text": [
      "Array a shape:\n",
      " (2, 3)\n"
     ]
    }
   ],
   "source": [
    "print(\"Array a shape:\\n\", a.shape)"
   ]
  },
  {
   "cell_type": "code",
   "execution_count": 9,
   "metadata": {},
   "outputs": [
    {
     "name": "stdout",
     "output_type": "stream",
     "text": [
      "Array b shape:\n",
      " (3,)\n"
     ]
    }
   ],
   "source": [
    "print(\"Array b shape:\\n\", b.shape)"
   ]
  },
  {
   "cell_type": "markdown",
   "metadata": {},
   "source": [
    "### Array from content placeholder\n",
    "Often, the element is of an array is originally unknown, but its size is known. Hence, NumPy offers several functions to create arrays with **initial placeholder content**. These minimize the necessity of growing arrays, an expensive operation. For example: `np.zeros`, `np.ones`, `np.full`, `np.empty`, etc.\n",
    "\n",
    "To create sequences of numbers, NumPy provides a function analogous to the range that returns arrays instead of lists."
   ]
  },
  {
   "cell_type": "code",
   "execution_count": 20,
   "metadata": {},
   "outputs": [
    {
     "name": "stdout",
     "output_type": "stream",
     "text": [
      "An array initialised with all zeros:\n",
      " [[0. 0. 0. ... 0. 0. 0.]\n",
      " [0. 0. 0. ... 0. 0. 0.]\n",
      " [0. 0. 0. ... 0. 0. 0.]\n",
      " ...\n",
      " [0. 0. 0. ... 0. 0. 0.]\n",
      " [0. 0. 0. ... 0. 0. 0.]\n",
      " [0. 0. 0. ... 0. 0. 0.]]\n",
      "An array initialized with all 6s. Array type is complex:\n",
      " [[6.+0.j 6.+0.j 6.+0.j]\n",
      " [6.+0.j 6.+0.j 6.+0.j]\n",
      " [6.+0.j 6.+0.j 6.+0.j]]\n",
      "A random array:\n",
      " [[0.65795978 0.59688555]\n",
      " [0.99386084 0.11813309]]\n"
     ]
    }
   ],
   "source": [
    "# Creating a 3x4 array with all zeros \n",
    "c = np.zeros((35, 68)) \n",
    "print(\"An array initialised with all zeros:\\n\", c) \n",
    "\n",
    "# Create a constant value array of complex type \n",
    "d = np.full((3, 3), 6, dtype = 'complex') \n",
    "print (\"An array initialized with all 6s. Array type is complex:\\n\", d) \n",
    "\n",
    "# Create an array with random values \n",
    "e = np.random.random((2, 2)) \n",
    "print(\"A random array:\\n\", e)\n"
   ]
  },
  {
   "cell_type": "code",
   "execution_count": 21,
   "metadata": {},
   "outputs": [
    {
     "name": "stdout",
     "output_type": "stream",
     "text": [
      "Array c shape:\n",
      " (35, 68)\n"
     ]
    }
   ],
   "source": [
    "print(\"Array c shape:\\n\", c.shape)"
   ]
  },
  {
   "cell_type": "markdown",
   "metadata": {},
   "source": [
    "### Array from `arange` Function\n",
    "This function returns evenly spaced values within a given interval. Step size is specified."
   ]
  },
  {
   "cell_type": "code",
   "execution_count": 22,
   "metadata": {},
   "outputs": [
    {
     "name": "stdout",
     "output_type": "stream",
     "text": [
      "A sequential array with steps of 5:\n",
      " [ 0  5 10 15 20 25]\n"
     ]
    }
   ],
   "source": [
    "# Create a sequence of integers \n",
    "# from 0 to 30 with steps of 5 \n",
    "f = np.arange(0, 30, 5)\n",
    "print (\"A sequential array with steps of 5:\\n\", f)\n"
   ]
  },
  {
   "cell_type": "markdown",
   "metadata": {},
   "source": [
    "### Array from `linspace`\n",
    "It returns evenly spaced values within a given interval."
   ]
  },
  {
   "cell_type": "code",
   "execution_count": 24,
   "metadata": {},
   "outputs": [
    {
     "name": "stdout",
     "output_type": "stream",
     "text": [
      "A sequential array with 10 values between 0 and 5:\n",
      " [0.         0.17241379 0.34482759 0.51724138 0.68965517 0.86206897\n",
      " 1.03448276 1.20689655 1.37931034 1.55172414 1.72413793 1.89655172\n",
      " 2.06896552 2.24137931 2.4137931  2.5862069  2.75862069 2.93103448\n",
      " 3.10344828 3.27586207 3.44827586 3.62068966 3.79310345 3.96551724\n",
      " 4.13793103 4.31034483 4.48275862 4.65517241 4.82758621 5.        ]\n"
     ]
    }
   ],
   "source": [
    "# Create a sequence of 30 values in range 0 to 5 \n",
    "g = np.linspace(0, 5, 30) \n",
    "print (\"A sequential array with 10 values between 0 and 5:\\n\", g)"
   ]
  },
  {
   "cell_type": "markdown",
   "metadata": {},
   "source": [
    "### Reshaping Array\n",
    "We can use reshape method to reshape an array. Consider an array with shape (a1, a2, a3, ... , aN). We can reshape and convert it into another array with shape (b1, b2, b3, ... , bM). The only required condition is a1 x a2 x a3 x ... x aN = b1 x b2 x b3 x ... x bM. (i.e. the original size of the array remains unchanged.)"
   ]
  },
  {
   "cell_type": "code",
   "execution_count": 25,
   "metadata": {},
   "outputs": [
    {
     "name": "stdout",
     "output_type": "stream",
     "text": [
      "Original array:\n",
      " [[1 2 3 4]\n",
      " [5 2 4 2]\n",
      " [1 2 0 1]]\n",
      "---------------\n",
      "Reshaped array:\n",
      " [[[1 2 3]\n",
      "  [4 5 2]]\n",
      "\n",
      " [[4 2 1]\n",
      "  [2 0 1]]]\n"
     ]
    }
   ],
   "source": [
    "# Reshaping 3x4 array to 2x2x3 array \n",
    "arr = np.array([[1, 2, 3, 4], \n",
    "\t\t\t\t[5, 2, 4, 2], \n",
    "\t\t\t\t[1, 2, 0, 1]]) \n",
    "\n",
    "newarr = arr.reshape(2, 2, 3) \n",
    "\n",
    "print (\"Original array:\\n\", arr) \n",
    "print(\"---------------\") \n",
    "print (\"Reshaped array:\\n\", newarr)\n"
   ]
  },
  {
   "cell_type": "markdown",
   "metadata": {},
   "source": [
    "### Flatten Array\n",
    "We can use flatten method to get a copy of the array collapsed into one dimension. It accepts order argument."
   ]
  },
  {
   "cell_type": "code",
   "execution_count": 27,
   "metadata": {},
   "outputs": [
    {
     "name": "stdout",
     "output_type": "stream",
     "text": [
      "Original array:\n",
      " [[1 2 3]\n",
      " [4 5 6]]\n",
      "Flattened array:\n",
      " [1 2 3 4 5 6]\n"
     ]
    }
   ],
   "source": [
    "# Flatten array \n",
    "arr = np.array([[1, 2, 3], [4, 5, 6]]) \n",
    "flat_arr = arr.flatten() \n",
    "\n",
    "print (\"Original array:\\n\", arr) \n",
    "print (\"Flattened array:\\n\", flat_arr)\n"
   ]
  },
  {
   "cell_type": "markdown",
   "metadata": {},
   "source": [
    "## NumPy Array Indexing\n",
    "Knowing the basics of NumPy array indexing is important for analyzing and manipulating the array object. NumPy in Python offers many ways to do array indexing.\n",
    "\n",
    "1. **Slicing**: Just like lists in Python, NumPy arrays can be sliced. As arrays can be multidimensional, you need to specify a slice for each dimension of the array.\n",
    "2. **Integer array indexing**: In this method, lists are passed for indexing for each dimension. One-to-one mapping of corresponding elements is done to construct a new arbitrary array.\n",
    "3. **Boolean array indexing**: This method is used when we want to pick elements from the array which satisfy some condition.\n",
    "\n",
    "### Example\n",
    "The following demonstrates NumPy indexing"
   ]
  },
  {
   "cell_type": "code",
   "execution_count": 32,
   "metadata": {},
   "outputs": [
    {
     "name": "stdout",
     "output_type": "stream",
     "text": [
      "Original array:\n",
      " [[-1.   2.   0.   4. ]\n",
      " [ 4.  -0.5  6.   0. ]\n",
      " [ 2.6  0.   7.   8. ]\n",
      " [ 3.  -7.   4.   2. ]]\n",
      "Array with first 2 rows and alternate columns(0 and 2):\n",
      " [[-1.  0.]\n",
      " [ 4.  6.]]\n",
      "\n",
      "Original array:\n",
      " [[-1.   2.   0.   4. ]\n",
      " [ 4.  -0.5  6.   0. ]\n",
      " [ 2.6  0.   7.   8. ]\n",
      " [ 3.  -7.   4.   2. ]]\n",
      "\n",
      "Elements at indices (0, 3), (1, 2), (2, 1),(3, 0):\n",
      " [4. 6. 0. 3.]\n",
      "\n",
      "Boolean flags\n",
      " [[False  True False  True]\n",
      " [ True False  True False]\n",
      " [ True False  True  True]\n",
      " [ True False  True  True]]\n",
      "\n",
      "Elements greater than 0:\n",
      " [2.  4.  4.  6.  2.6 7.  8.  3.  4.  2. ]\n"
     ]
    }
   ],
   "source": [
    "# A random 4x4 array \n",
    "arr = np.array([[-1, 2, 0, 4], \n",
    "\t\t\t\t[4, -0.5, 6, 0], \n",
    "\t\t\t\t[2.6, 0, 7, 8], \n",
    "\t\t\t\t[3, -7, 4, 2.0]]) \n",
    "\n",
    "# Slicing array \n",
    "print(\"Original array:\\n\", arr)\n",
    "temp = arr[:2, ::2] \n",
    "print (\"Array with first 2 rows and alternate columns(0 and 2):\\n\", temp) \n",
    "\n",
    "# Integer array indexing example\n",
    "print(\"\\nOriginal array:\\n\", arr)\n",
    "temp = arr[[0, 1, 2, 3], [3, 2, 1, 0]] \n",
    "print (\"\\nElements at indices (0, 3), (1, 2), (2, 1),(3, 0):\\n\", temp) \n",
    "\n",
    "# boolean array indexing example \n",
    "cond = arr > 0 # cond is a boolean array\n",
    "print(\"\\nBoolean flags\\n\",cond)\n",
    "temp = arr[cond] \n",
    "print (\"\\nElements greater than 0:\\n\", temp) \n"
   ]
  },
  {
   "cell_type": "markdown",
   "metadata": {},
   "source": [
    "## NumPy Basic Operations\n",
    "The are many built-in arithmetic functions is provided in Python NumPy.\n",
    "\n",
    "### Operations on a single NumPy array\n",
    "We can use overloaded arithmetic operators to do element-wise operations on the array to create a new array. In the case of `+=`, `-=`, `*=` operators, the existing array is modified.\n",
    "\n",
    "### Example\n",
    "The following demonstrates basic operations on single array \n"
   ]
  },
  {
   "cell_type": "code",
   "execution_count": 33,
   "metadata": {},
   "outputs": [
    {
     "name": "stdout",
     "output_type": "stream",
     "text": [
      "Adding 1 to every element: [2 3 6 4]\n",
      "Subtracting 3 from each element: [-2 -1  2  0]\n",
      "Multiplying each element by 10: [10 20 50 30]\n",
      "Squaring each element: [ 1  4 25  9]\n",
      "Doubled each element of original array: [ 2  4 10  6]\n",
      "\n",
      "Original array:\n",
      " [[1 2 3]\n",
      " [3 4 5]\n",
      " [9 6 0]]\n",
      "Transpose of array:\n",
      " [[1 3 9]\n",
      " [2 4 6]\n",
      " [3 5 0]]\n"
     ]
    }
   ],
   "source": [
    "# Create an 1D array\n",
    "a = np.array([1, 2, 5, 3]) \n",
    "\n",
    "# add 1 to every element \n",
    "print (\"Adding 1 to every element:\", a+1) \n",
    "\n",
    "# subtract 3 from each element \n",
    "print (\"Subtracting 3 from each element:\", a-3) \n",
    "\n",
    "# multiply each element by 10 \n",
    "print (\"Multiplying each element by 10:\", a*10) \n",
    "\n",
    "# square each element \n",
    "print (\"Squaring each element:\", a**2) \n",
    "\n",
    "# modify existing array \n",
    "a *= 2\n",
    "print (\"Doubled each element of original array:\", a) \n",
    "\n",
    "# transpose of array \n",
    "a = np.array([[1, 2, 3], [3, 4, 5], [9, 6, 0]]) \n",
    "\n",
    "print (\"\\nOriginal array:\\n\", a) \n",
    "print (\"Transpose of array:\\n\", a.T)\n"
   ]
  },
  {
   "cell_type": "markdown",
   "metadata": {},
   "source": [
    "## NumPy – Unary Operators\n",
    "\n",
    "Many unary operations are provided as a method of `ndarray` class. This includes `sum`, `min`, `max`, etc. These functions can also be applied row-wise or column-wise by setting an axis parameter.\n",
    "\n",
    "### Example\n",
    "The following shows the use of unary operators in NumPy"
   ]
  },
  {
   "cell_type": "code",
   "execution_count": 36,
   "metadata": {},
   "outputs": [
    {
     "name": "stdout",
     "output_type": "stream",
     "text": [
      "Largest element is: 9\n",
      "Row-wise maximum elements: [6 7 9]\n",
      "Row-wise minimum elements: [1 2 1]\n",
      "Column-wise minimum elements: [1 1 2]\n",
      "Sum of all array elements: 38\n",
      "Cumulative sum along each row:\n",
      " [[ 1  6 12]\n",
      " [ 4 11 13]\n",
      " [ 3  4 13]]\n",
      "Cumulative sum along each column :\n",
      " [[ 1  5  6]\n",
      " [ 5 12  8]\n",
      " [ 8 13 17]]\n"
     ]
    }
   ],
   "source": [
    "# Create an array\n",
    "arr = np.array([[1, 5, 6], \n",
    "\t\t\t\t[4, 7, 2], \n",
    "\t\t\t\t[3, 1, 9]]) \n",
    "\n",
    "# maximum element of array \n",
    "print (\"Largest element is:\", arr.max()) \n",
    "print (\"Row-wise maximum elements:\", arr.max(axis = 1)) \n",
    "\n",
    "# minimum element of array \n",
    "print (\"Row-wise minimum elements:\", arr.min(axis = 1)) \n",
    "print (\"Column-wise minimum elements:\", arr.min(axis = 0)) \n",
    "\n",
    "# sum of array elements \n",
    "print (\"Sum of all array elements:\", arr.sum()) \n",
    "\n",
    "# cumulative sum along each row \n",
    "print (\"Cumulative sum along each row:\\n\", arr.cumsum(axis = 1))\n",
    "print (\"Cumulative sum along each column :\\n\", arr.cumsum(axis = 0)) \n"
   ]
  },
  {
   "cell_type": "markdown",
   "metadata": {},
   "source": [
    "## NumPy – Binary Operators\n",
    "\n",
    "These operations apply to the array elementwise and a new array is created. You can use all basic arithmetic operators like `+`, `-`, `/`,  etc. In the case of `+=`, `-=`, `=` operators, the existing array is modified.\n",
    "\n",
    "### Example\n",
    "The following demonstrates binary operators in NumPy "
   ]
  },
  {
   "cell_type": "code",
   "execution_count": 31,
   "metadata": {},
   "outputs": [
    {
     "name": "stdout",
     "output_type": "stream",
     "text": [
      "Array sum:\n",
      " [[5 5]\n",
      " [5 5]]\n",
      "Array multiplication:\n",
      " [[4 6]\n",
      " [6 4]]\n",
      "Matrix multiplication:\n",
      " [[ 8  5]\n",
      " [20 13]]\n"
     ]
    }
   ],
   "source": [
    "a = np.array([[1, 2], [3, 4]]) \n",
    "\n",
    "b = np.array([[4, 3], [2, 1]]) \n",
    "\n",
    "# add arrays \n",
    "print (\"Array sum:\\n\", a + b) \n",
    "\n",
    "# multiply arrays (elementwise multiplication) \n",
    "print (\"Array multiplication:\\n\", a*b) \n",
    "\n",
    "# matrix multiplication \n",
    "print (\"Matrix multiplication:\\n\", a.dot(b)) \n"
   ]
  },
  {
   "cell_type": "markdown",
   "metadata": {},
   "source": [
    "## Introduction to NumPy’s Universal Functions\n",
    "\n",
    "NumPy provides familiar mathematical functions such as sin, cos, exp, etc. These functions also operate elementwise on an array, producing an array as output.\n",
    "\n",
    "*Note: All the operations we did above using overloaded operators can be done using ufuncs like np.add, np.subtract, np.multiply, np.divide, np.sum, etc.* \n",
    "\n",
    "### Example\n",
    "The following demonstrates universal functions in NumPy"
   ]
  },
  {
   "cell_type": "code",
   "execution_count": 38,
   "metadata": {},
   "outputs": [
    {
     "name": "stdout",
     "output_type": "stream",
     "text": [
      "Array:\n",
      " [0.         1.57079633 3.14159265]\n",
      "Sine values of array elements: [0.0000000e+00 1.0000000e+00 1.2246468e-16]\n",
      "Exponent of array elements: [ 1.          2.71828183  7.3890561  20.08553692]\n",
      "Square root of array elements: [0.         1.         1.41421356 1.73205081]\n"
     ]
    }
   ],
   "source": [
    "# create an array of sine values \n",
    "a = np.array([0, np.pi/2, np.pi]) \n",
    "\n",
    "print(\"Array:\\n\", a)\n",
    "print (\"Sine values of array elements:\", np.sin(a)) \n",
    "\n",
    "# exponential values \n",
    "a = np.array([0, 1, 2, 3]) \n",
    "print (\"Exponent of array elements:\", np.exp(a)) \n",
    "\n",
    "# square root of array values \n",
    "print (\"Square root of array elements:\", np.sqrt(a)) \n"
   ]
  },
  {
   "cell_type": "markdown",
   "metadata": {},
   "source": [
    "## Why is Numpy faster in Python?\n",
    "NumPy is a Python fundamental package used for efficient manipulations and operations on High-level mathematical functions, Multi-dimensional arrays, Linear algebra, Fourier Transformations, Random Number Capabilities, etc. It provides tools for integrating C, C++, and Fortran code in Python. NumPy is mostly used in Python for scientific computing. \n",
    "\n",
    "Below compares NumPy Arrays and Lists in Python in terms of execution time. "
   ]
  },
  {
   "cell_type": "code",
   "execution_count": 39,
   "metadata": {},
   "outputs": [
    {
     "name": "stdout",
     "output_type": "stream",
     "text": [
      "Time taken by Lists : 0.12648582458496094 seconds\n",
      "Time taken by NumPy Arrays : 0.005352973937988281 seconds\n"
     ]
    }
   ],
   "source": [
    "# importing required packages\n",
    "import time\n",
    "\n",
    "# size of arrays and lists\n",
    "size = 1000000\n",
    "\n",
    "# declaring lists\n",
    "list1 = range(size)\n",
    "list2 = range(size)\n",
    "\n",
    "# declaring arrays\n",
    "array1 = np.arange(size) \n",
    "array2 = np.arange(size)\n",
    "\n",
    "# list\n",
    "initialTime = time.time()\n",
    "resultantList = [(a * b) for a, b in zip(list1, list2)]\n",
    "\n",
    "# calculating execution time\n",
    "print(\"Time taken by Lists :\", \n",
    "\t(time.time() - initialTime),\n",
    "\t\"seconds\")\n",
    "\n",
    "# NumPy array\n",
    "initialTime = time.time()\n",
    "resultantArray = array1 * array2\n",
    "\n",
    "# calculating execution time \n",
    "print(\"Time taken by NumPy Arrays :\", (time.time() - initialTime), \"seconds\")\n"
   ]
  },
  {
   "cell_type": "markdown",
   "metadata": {},
   "source": [
    "### NumPy Arrays are faster than Python Lists because of the following reasons\n",
    "\n",
    "1. An array is a collection of homogeneous data-types that are stored in contiguous memory locations. On the other hand, a list in Python is a collection of heterogeneous data types stored in non-contiguous memory locations.\n",
    "2. The NumPy package breaks down a task into multiple fragments and then processes all the fragments parallelly.\n",
    "3. The NumPy package integrates C, C++, and Fortran codes in Python. These programming languages have very little execution time compared to Python.\n",
    "\n",
    "Below compares the execution time of different operations on NumPy arrays and Python Lists:  "
   ]
  },
  {
   "cell_type": "code",
   "execution_count": 40,
   "metadata": {},
   "outputs": [
    {
     "name": "stdout",
     "output_type": "stream",
     "text": [
      "\n",
      "Concatenation:\n",
      "Time taken by Lists : 0.021097898483276367 seconds\n",
      "Time taken by NumPy Arrays : 0.014459848403930664 seconds\n",
      "\n",
      "Dot Product:\n",
      "Time taken by Lists : 0.15607094764709473 seconds\n",
      "Time taken by NumPy Arrays : 0.004182100296020508 seconds\n",
      "\n",
      "Scalar Addition:\n",
      "Time taken by Lists : 0.10200190544128418 seconds\n",
      "Time taken by NumPy Arrays : 0.0035181045532226562 seconds\n",
      "\n",
      "Deletion: \n",
      "Time taken by Lists : 0.018311023712158203 seconds\n",
      "Time taken by NumPy Arrays : 0.003509998321533203 seconds\n"
     ]
    }
   ],
   "source": [
    "# size of arrays and lists\n",
    "size = 1000000\n",
    "\n",
    "# declaring lists\n",
    "list1 = [i for i in range(size)]\n",
    "list2 = [i for i in range(size)]\n",
    "\n",
    "# declaring arrays\n",
    "array1 = np.arange(size)\n",
    "array2 = np.arange(size)\n",
    "\n",
    "# Concatenation\n",
    "print(\"\\nConcatenation:\")\n",
    "\n",
    "# list\n",
    "initialTime = time.time()\n",
    "list1 = list1 + list2\n",
    "\n",
    "# calculating execution time\n",
    "print(\"Time taken by Lists :\",\n",
    "\t(time.time() - initialTime),\n",
    "\t\"seconds\")\n",
    "\n",
    "# NumPy array\n",
    "initialTime = time.time()\n",
    "array = np.concatenate((array1, array2), axis = 0)\n",
    "\n",
    "# calculating execution time \n",
    "print(\"Time taken by NumPy Arrays :\", (time.time() - initialTime), \"seconds\")\n",
    "\n",
    "\n",
    "# Dot Product\n",
    "dot = 0\n",
    "print(\"\\nDot Product:\")\n",
    "\n",
    "# list\n",
    "initialTime = time.time()\n",
    "for a, b in zip(list1, list2): \n",
    "    dot = dot + (a * b)\n",
    "\t\t\n",
    "# calculating execution time\n",
    "print(\"Time taken by Lists :\", (time.time() - initialTime), \"seconds\")\n",
    "\n",
    "# NumPy array\n",
    "initialTime = time.time()\n",
    "array = np.dot(array1, array2)\n",
    "\n",
    "# calculating execution time \n",
    "print(\"Time taken by NumPy Arrays :\", (time.time() - initialTime),\"seconds\")\n",
    "\n",
    "\n",
    "# Scalar Addition \n",
    "print(\"\\nScalar Addition:\")\n",
    "\n",
    "# list\n",
    "initialTime = time.time()\n",
    "list1 =[i + 2 for i in range(size)]\n",
    "\n",
    "# calculating execution time\n",
    "print(\"Time taken by Lists :\", (time.time() - initialTime),\"seconds\")\n",
    "\n",
    "# NumPy array\n",
    "initialTime = time.time()\n",
    "array1 = array1 + 2\n",
    "\n",
    "# calculating execution time \n",
    "print(\"Time taken by NumPy Arrays :\", (time.time() - initialTime), \"seconds\")\n",
    "\n",
    "\n",
    "# Deletion\n",
    "print(\"\\nDeletion: \")\n",
    "\n",
    "# list\n",
    "initialTime = time.time()\n",
    "del(list1)\n",
    "\n",
    "# calculating execution time\n",
    "print(\"Time taken by Lists :\",(time.time() - initialTime),\"seconds\")\n",
    "\n",
    "# NumPy array\n",
    "initialTime = time.time()\n",
    "del(array1)\n",
    "\n",
    "# calculating execution time \n",
    "print(\"Time taken by NumPy Arrays :\", (time.time() - initialTime),\"seconds\")\n"
   ]
  }
 ],
 "metadata": {
  "kernelspec": {
   "display_name": "py-metro",
   "language": "python",
   "name": "python3"
  },
  "language_info": {
   "codemirror_mode": {
    "name": "ipython",
    "version": 3
   },
   "file_extension": ".py",
   "mimetype": "text/x-python",
   "name": "python",
   "nbconvert_exporter": "python",
   "pygments_lexer": "ipython3",
   "version": "3.11.9"
  }
 },
 "nbformat": 4,
 "nbformat_minor": 2
}
