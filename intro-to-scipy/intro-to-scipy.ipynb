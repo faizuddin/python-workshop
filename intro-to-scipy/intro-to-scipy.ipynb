{
 "cells": [
  {
   "cell_type": "markdown",
   "metadata": {},
   "source": [
    "# Introduction SciPy\n",
    "\n",
    "SciPy, pronounced as Sigh Pi, is a scientific python open source, distributed under the BSD licensed library to perform Mathematical, Scientific and Engineering Computations.\n",
    "\n",
    "The SciPy library depends on NumPy, which provides convenient and fast N-dimensional array manipulation. The SciPy library is built to work with NumPy arrays and provides many user-friendly and efficient numerical practices such as routines for numerical integration and optimization. Together, they run on all popular operating systems, are quick to install and are free of charge. NumPy and SciPy are easy to use, but powerful enough to depend on by some of the world's leading scientists and engineers.\n",
    "\n",
    "## Data Structure\n",
    "\n",
    "The basic data structure used by SciPy is a multidimensional array provided by the NumPy module. NumPy provides some functions for Linear Algebra, Fourier Transforms and Random Number Generation, but not with the generality of the equivalent functions in SciPy.\n",
    "\n",
    "## Setup\n",
    "\n",
    "Standard Python distribution does not come bundled with any SciPy module. To install SciPy we can use either **Anaconda Navigator** or Python package manager.\n",
    "\n",
    "## Basic Functionality\n",
    "\n",
    "By default, all the NumPy functions have been available through the SciPy namespace. There is no need to import the NumPy functions explicitly, when SciPy is imported. The main object of NumPy is the homogeneous multidimensional array. It is a table of elements (usually numbers), all of the same type, indexed by a tuple of positive integers. In NumPy, dimensions are called as axes. The number of axes is called as rank.\n",
    "\n",
    "As SciPy is built on top of NumPy arrays, understanding of NumPy basics is necessary. As most parts of linear algebra deals with matrices only.\n",
    "\n",
    "## NumPy Vector\n",
    "\n",
    "A Vector can be created in multiple ways. Some of them are described below.\n",
    "\n",
    "### Converting Python array-like objects to NumPy\n",
    "\n",
    "Let us consider the following example."
   ]
  },
  {
   "cell_type": "code",
   "execution_count": 7,
   "metadata": {},
   "outputs": [
    {
     "name": "stdout",
     "output_type": "stream",
     "text": [
      "[1 2 3 4]\n"
     ]
    }
   ],
   "source": [
    "import numpy as np\n",
    "list = [1,2,3,4]\n",
    "arr = np.array(list)\n",
    "print(arr)"
   ]
  },
  {
   "cell_type": "markdown",
   "metadata": {},
   "source": [
    "## Intrinsic NumPy Array Creation\n",
    "\n",
    "NumPy has built-in functions for creating arrays from scratch. Some of these functions are explained below.\n",
    "\n",
    "### Using `zeros()`\n",
    "\n",
    "The zeros(shape) function will create an array filled with 0 values with the specified shape. The default dtype is float64. Let us consider the following example."
   ]
  },
  {
   "cell_type": "code",
   "execution_count": 4,
   "metadata": {},
   "outputs": [
    {
     "name": "stdout",
     "output_type": "stream",
     "text": [
      "[[0. 0. 0.]\n",
      " [0. 0. 0.]]\n"
     ]
    }
   ],
   "source": [
    "print(np.zeros((2, 3)))"
   ]
  },
  {
   "cell_type": "markdown",
   "metadata": {},
   "source": [
    "### Using `ones()`\n",
    "\n",
    "The ones(shape) function will create an array filled with 1 values. It is identical to zeros in all the other respects. Let us consider the following example."
   ]
  },
  {
   "cell_type": "code",
   "execution_count": 5,
   "metadata": {},
   "outputs": [
    {
     "name": "stdout",
     "output_type": "stream",
     "text": [
      "[[1. 1. 1.]\n",
      " [1. 1. 1.]]\n"
     ]
    }
   ],
   "source": [
    "print(np.ones((2, 3)))"
   ]
  },
  {
   "cell_type": "markdown",
   "metadata": {},
   "source": [
    "### Using `arange()`\n",
    "\n",
    "The `arange()` function will create arrays with regularly incrementing values. Let us consider the following example."
   ]
  },
  {
   "cell_type": "code",
   "execution_count": 6,
   "metadata": {},
   "outputs": [
    {
     "name": "stdout",
     "output_type": "stream",
     "text": [
      "[0 1 2 3 4 5 6]\n"
     ]
    }
   ],
   "source": [
    "print(np.arange(7))"
   ]
  },
  {
   "cell_type": "markdown",
   "metadata": {},
   "source": [
    "### Defining the data type of the values\n",
    "\n",
    "Let us consider the following example."
   ]
  },
  {
   "cell_type": "code",
   "execution_count": 8,
   "metadata": {},
   "outputs": [
    {
     "name": "stdout",
     "output_type": "stream",
     "text": [
      "[2. 3. 4. 5. 6. 7. 8. 9.]\n",
      "Array Data Type : float64\n"
     ]
    }
   ],
   "source": [
    "arr = np.arange(2, 10, dtype = float)\n",
    "print(arr)\n",
    "print(\"Array Data Type :\",arr.dtype)"
   ]
  },
  {
   "cell_type": "markdown",
   "metadata": {},
   "source": [
    "### Using `linspace()`\n",
    "\n",
    "The `linspace()` function will create arrays with a specified number of elements, which will be spaced equally between the specified beginning and end values. Let us consider the following example."
   ]
  },
  {
   "cell_type": "code",
   "execution_count": 10,
   "metadata": {},
   "outputs": [
    {
     "name": "stdout",
     "output_type": "stream",
     "text": [
      "[1.  1.6 2.2 2.8 3.4 4. ]\n"
     ]
    }
   ],
   "source": [
    "print(np.linspace(1., 4., 6))"
   ]
  },
  {
   "cell_type": "markdown",
   "metadata": {},
   "source": [
    "## Matrix\n",
    "\n",
    "A matrix is a specialized 2-D array that retains its 2-D nature through operations. It has certain special operators, such as * (matrix multiplication) and ** (matrix power). Let us consider the following example."
   ]
  },
  {
   "cell_type": "code",
   "execution_count": 11,
   "metadata": {},
   "outputs": [
    {
     "name": "stdout",
     "output_type": "stream",
     "text": [
      "[[1 2]\n",
      " [3 4]]\n"
     ]
    }
   ],
   "source": [
    "print(np.matrix('1 2; 3 4'))"
   ]
  },
  {
   "cell_type": "markdown",
   "metadata": {},
   "source": [
    "### Conjugate Transpose of Matrix\n",
    "\n",
    "This feature returns the (complex) conjugate transpose of self. Let us consider the following example."
   ]
  },
  {
   "cell_type": "code",
   "execution_count": 18,
   "metadata": {},
   "outputs": [
    {
     "name": "stdout",
     "output_type": "stream",
     "text": [
      "Original: \n",
      " [[1 2]\n",
      " [3 4]]\n",
      "Conjugate: \n",
      " [[1 3]\n",
      " [2 4]]\n"
     ]
    }
   ],
   "source": [
    "mat = np.matrix('1 2; 3 4')\n",
    "print(\"Original: \\n\", mat)\n",
    "print(\"Conjugate: \\n\", mat.H)"
   ]
  },
  {
   "cell_type": "markdown",
   "metadata": {},
   "source": [
    "### Transpose of Matrix\n",
    "\n",
    "This feature returns the transpose of self. Let us consider the following example."
   ]
  },
  {
   "cell_type": "code",
   "execution_count": 16,
   "metadata": {},
   "outputs": [
    {
     "name": "stdout",
     "output_type": "stream",
     "text": [
      "Original: \n",
      " [[1 2]\n",
      " [3 4]]\n",
      "Transpose: \n",
      " [[1 3]\n",
      " [2 4]]\n"
     ]
    }
   ],
   "source": [
    "mat = np.matrix('1 2; 3 4')\n",
    "print(\"Original: \\n\", mat)\n",
    "print(\"Transpose: \\n\", mat.T)"
   ]
  },
  {
   "cell_type": "markdown",
   "metadata": {},
   "source": [
    "When we transpose a matrix, we make a new matrix whose rows are the columns of the original. A conjugate transposition, on the other hand, interchanges the row and the column index for each matrix element. The inverse of a matrix is a matrix that, if multiplied with the original matrix, results in an identity matrix."
   ]
  },
  {
   "cell_type": "markdown",
   "metadata": {},
   "source": [
    "## SciPy Constants Package\n",
    "\n",
    "The `scipy.constants` package provides various constants. We have to import the required constant and use them as per the requirement. Let us see how these constant variables are imported and used.\n",
    "\n",
    "To start with, let us compare the ‘pi’ value by considering the following example."
   ]
  },
  {
   "cell_type": "code",
   "execution_count": 8,
   "metadata": {},
   "outputs": [
    {
     "name": "stdout",
     "output_type": "stream",
     "text": [
      "sciPy - pi = 3.1415926535897931\n",
      "math - pi = 3.1415926535897931\n"
     ]
    }
   ],
   "source": [
    "import scipy.constants\n",
    "import math\n",
    "\n",
    "print(\"sciPy - pi = %.16f\" % scipy.constants.pi)\n",
    "print(\"math - pi = %.16f\" % math.pi)"
   ]
  },
  {
   "cell_type": "markdown",
   "metadata": {},
   "source": [
    "## List of Constants Available\n",
    "\n",
    "Please refer to [Scipy official API reference](https://docs.scipy.org/doc/scipy/reference/constants.html) for list available constants. \n",
    "\n",
    "Remembering all of these are a bit tough. The easy way to get which key is for which function is with the `scipy.constants.find()` method. Let us consider the following example."
   ]
  },
  {
   "cell_type": "code",
   "execution_count": 32,
   "metadata": {},
   "outputs": [
    {
     "name": "stdout",
     "output_type": "stream",
     "text": [
      "(376.730313668, 'ohm', 5.7e-08)\n"
     ]
    }
   ],
   "source": [
    "import scipy.constants\n",
    "\n",
    "res = scipy.constants.physical_constants[\"characteristic impedance of vacuum\"]\n",
    "print(res)"
   ]
  },
  {
   "cell_type": "markdown",
   "metadata": {},
   "source": [
    "## FFTpack\n",
    "\n",
    "Fourier Transformation is computed on a time domain signal to check its behavior in the frequency domain. Fourier transformation finds its application in disciplines such as signal and noise processing, image processing, audio signal processing, etc. SciPy offers the fftpack module, which lets the user compute fast Fourier transforms.\n",
    "\n",
    "## Fast Fourier Transform\n",
    "\n",
    "Let us understand what fast Fourier transform is in detail.\n",
    "\n",
    "### One Dimensional Discrete Fourier Transform\n",
    "\n",
    "The FFT $y[k]$ of length $N$ of the length-N sequence $x[n]$ is calculated by `fft()` and the inverse transform is calculated using `ifft()`. Let us consider the following example"
   ]
  },
  {
   "cell_type": "code",
   "execution_count": 33,
   "metadata": {},
   "outputs": [
    {
     "name": "stdout",
     "output_type": "stream",
     "text": [
      "[ 4.5       -0.j          2.08155948-1.65109876j -1.83155948+1.60822041j\n",
      " -1.83155948-1.60822041j  2.08155948+1.65109876j]\n"
     ]
    }
   ],
   "source": [
    "#Importing the fft and inverse fft functions from fftpackage\n",
    "from scipy.fftpack import fft\n",
    "\n",
    "#create an array with random n numbers\n",
    "x = np.array([1.0, 2.0, 1.0, -1.0, 1.5])\n",
    "\n",
    "#Applying the fft function\n",
    "y = fft(x)\n",
    "print(y)"
   ]
  },
  {
   "cell_type": "code",
   "execution_count": 35,
   "metadata": {},
   "outputs": [
    {
     "name": "stdout",
     "output_type": "stream",
     "text": [
      "[ 1. +0.j  2. +0.j  1. +0.j -1. +0.j  1.5+0.j]\n"
     ]
    }
   ],
   "source": [
    "from scipy.fftpack import ifft\n",
    "\n",
    "yinv = ifft(y)\n",
    "print(yinv)"
   ]
  },
  {
   "cell_type": "markdown",
   "metadata": {},
   "source": [
    "The `scipy.fftpack` module allows computing fast Fourier transforms. As an illustration, a (noisy) input signal may look as follows:"
   ]
  },
  {
   "cell_type": "code",
   "execution_count": 9,
   "metadata": {},
   "outputs": [
    {
     "name": "stdout",
     "output_type": "stream",
     "text": [
      "1000\n"
     ]
    }
   ],
   "source": [
    "time_step = 0.02\n",
    "period = 5.\n",
    "time_vec = np.arange(0, 20, time_step)\n",
    "sig = np.sin(2 * np.pi / period * time_vec) + 0.5 *np.random.randn(time_vec.size)\n",
    "print(sig.size)"
   ]
  },
  {
   "cell_type": "markdown",
   "metadata": {},
   "source": [
    "### Plot the signal - we will discuss further later."
   ]
  },
  {
   "cell_type": "code",
   "execution_count": 13,
   "metadata": {},
   "outputs": [
    {
     "data": {
      "text/plain": [
       "Text(0, 0.5, 'Amplitude')"
      ]
     },
     "execution_count": 13,
     "metadata": {},
     "output_type": "execute_result"
    },
    {
     "data": {
      "image/png": "[encoded data removed]",
      "text/plain": [
       "<Figure size 640x480 with 1 Axes>"
      ]
     },
     "metadata": {},
     "output_type": "display_data"
    }
   ],
   "source": [
    "import matplotlib.pyplot as plt\n",
    "\n",
    "fig, axs = plt.subplots()\n",
    "axs.plot(time_vec, sig, color=\"C0\")\n",
    "axs.set_xlabel(\"Time\")\n",
    "axs.set_ylabel(\"Amplitude\")"
   ]
  },
  {
   "cell_type": "markdown",
   "metadata": {},
   "source": [
    "We are creating a signal with a time step of $0.02$ seconds. The last statement prints the size of the signal `sig`. \n",
    "\n",
    "We do not know the signal frequency; we only know the sampling time step of the signal `sig`. The signal is supposed to come from a real function, so the Fourier transform will be symmetric. The `scipy.fftpack.fftfreq()` function will generate the sampling frequencies and scipy.`fftpack.fft()` will compute the fast Fourier transform."
   ]
  },
  {
   "cell_type": "code",
   "execution_count": 19,
   "metadata": {},
   "outputs": [
    {
     "name": "stdout",
     "output_type": "stream",
     "text": [
      "[-1.81556407e+00-0.00000000e+00j  1.04518503e+01+3.48428851e+00j\n",
      "  8.42835605e+00+8.11372289e+00j -3.21642526e+00-1.00303467e+01j\n",
      " -6.72052500e+00-4.90482682e+02j -2.17280428e+01+2.54038482e+00j\n",
      " -1.58359890e+01-1.31668369e+01j  1.18078183e+00-1.18936792e+01j\n",
      " -2.21010205e+00-1.19151424e+01j  4.64832131e+01-2.48482941e+01j\n",
      "  1.70483838e+01+1.37428338e+01j  5.54997960e+00-7.80933122e-01j\n",
      "  1.61135719e+01+5.16039418e-01j  1.07280172e+01+1.32426745e+00j\n",
      "  5.48772475e+00-1.13199960e+01j  1.88904185e+01+1.28082408e+00j\n",
      "  1.32451708e+01-4.14420824e+00j  9.37393223e+00+1.08805652e+01j\n",
      "  6.66424001e+00-9.92887580e-01j -6.56955401e+00-1.80193076e+01j\n",
      " -7.51823147e+00-1.62533270e+01j -4.81038580e+00+9.43748146e+00j\n",
      " -7.81493356e+00-5.48405329e+00j -2.22642809e+01+3.34724728e-01j\n",
      " -7.11417306e+00+1.78200035e+01j -1.31215916e+00+5.59008017e+00j\n",
      " -2.38760858e+00-5.55698603e+00j -1.66840212e+00+1.04045490e+01j\n",
      "  2.41424034e+00+6.63051445e+00j -1.34435408e+01+1.49549519e+00j\n",
      "  1.61844449e+01-7.28617230e-01j -8.48788261e+00-5.37421489e+00j\n",
      "  2.25042921e+01-5.25475628e+00j  7.15751057e+00-1.99546066e+00j\n",
      "  5.00212452e+00-4.73514756e+00j -9.28764958e+00-1.68328425e+01j\n",
      " -2.17093927e+00-5.51252919e+00j  3.79367968e+00-3.77106863e+00j\n",
      " -1.12501053e+01-5.72666331e+00j  7.01107751e-01+1.19877706e+01j\n",
      "  2.30306804e+00-2.33896604e+00j -3.00871136e+00-9.74235293e+00j\n",
      "  1.01177983e+01-6.86228706e-01j -9.41988213e+00-7.39079432e+00j\n",
      " -7.04570764e+00-8.73228679e+00j  2.27855636e+01+8.45240809e-01j\n",
      "  2.25860666e+01+9.83393453e+00j  6.99972776e-01+1.80561841e+01j\n",
      " -2.73981239e+00-1.53500216e+00j  4.37477836e-01-3.90381992e+00j\n",
      " -7.76970812e-01+3.21357004e-01j  1.56748243e+00-1.52979088e+00j\n",
      "  1.92569121e+01-2.24567886e+00j  1.14881710e+01-1.37025487e+01j\n",
      "  1.51940886e-01+1.63957612e+01j -1.78484972e+01-1.43514583e+01j\n",
      " -1.67113505e+01-4.42941884e+00j  3.60560723e+00+6.80944389e+00j\n",
      "  1.92904576e+00-6.34665590e+00j  7.10364867e+00+1.69294829e+01j\n",
      " -8.86893154e+00-5.72976311e+00j -1.58108884e+01+9.95532827e+00j\n",
      "  5.76222291e+00+7.05609664e+00j -1.32974557e+01+2.51546450e+01j\n",
      "  3.39707013e+00+1.34889113e+01j -1.80782966e+01+5.44830516e+00j\n",
      " -1.05490352e+01+5.05993855e+00j  2.34568275e+01-1.09196552e+01j\n",
      " -2.76664316e+00+9.54325628e+00j -1.13718095e+01+1.36481934e+01j\n",
      " -1.28133065e+01-9.35172663e+00j -1.41553108e+01-1.07596420e+01j\n",
      " -8.54662382e+00-1.97357079e+00j  4.49753265e+00+1.89830187e+01j\n",
      "  3.66281543e+00-4.90827855e+00j  6.07169826e+00-7.39069492e+00j\n",
      "  2.13001208e+01-1.94873976e+01j  1.97903777e+00+2.73696198e-01j\n",
      " -6.70779718e-01-1.36275873e+00j  1.31995964e+01-7.85183805e+00j\n",
      "  7.45830675e+00+2.07944921e+01j  1.53022395e+01-8.23761522e+00j\n",
      "  1.53269293e+01+1.17994034e+01j  2.28107458e+01+1.40009085e+01j\n",
      "  1.98249951e+00+2.49527161e+01j  8.25974111e+00+7.19313282e+00j\n",
      " -4.72502950e+00+1.46809464e+01j -3.94812369e+00-3.37429217e+00j\n",
      "  1.37628979e+01-1.14976628e+01j -6.78655373e+00-5.91213177e+00j\n",
      " -5.21018612e+00+7.53200358e+00j  2.90142947e+00-1.19178292e+01j\n",
      "  6.14124456e+00-1.24657894e+01j -1.08302301e+01-5.48186338e+00j\n",
      " -4.79506282e-01+4.53888973e+00j -1.18134062e+01-5.80822786e+00j\n",
      " -1.12984233e+01+1.36935482e+01j  2.08346423e+01+5.14069191e+00j\n",
      "  1.38495233e+01-2.12448284e-01j -5.30752969e+00+3.55717233e+00j\n",
      "  1.09432411e+01-1.48099881e+01j  5.32063706e+00-3.39244155e+00j\n",
      "  2.04527521e+00+1.43116925e+01j -1.27559261e+01+1.58041521e+01j\n",
      " -1.23805679e+01-3.65049791e+00j -1.32077249e+01+1.43142476e+01j\n",
      "  8.57411437e+00+1.29116558e+01j -1.10318126e+01+5.96376954e-01j\n",
      "  6.98859226e-01+1.56886102e+01j -6.22182941e-01-1.86715839e+01j\n",
      " -1.27374050e+01+1.43745559e+01j -2.70629167e+00-1.04344882e+01j\n",
      " -3.05431164e+00-3.37882128e+00j  9.56172425e-02+1.30520069e+01j\n",
      "  1.31529359e+01-5.97779433e+00j  4.28175665e+00-5.57483588e+00j\n",
      " -1.78588216e+00+1.36692271e+01j  2.02363782e+00+1.04828754e+01j\n",
      " -8.43530499e+00-1.10695721e+01j -3.19509313e+00+2.01376014e+01j\n",
      "  1.72218320e+01-6.79658905e-01j -4.56698487e+00-1.85164029e+00j\n",
      "  1.01084089e+01+7.18716158e-01j -1.68490047e+01-2.31403403e+01j\n",
      "  1.15518612e+00+1.05095312e+01j -1.20101611e+01-4.77529671e+00j\n",
      "  1.00556076e+01-1.93288366e+01j -1.67067071e+01-4.65966804e+00j\n",
      " -9.85801273e+00+2.05282139e+01j  1.02698141e+01-1.73937316e+01j\n",
      " -1.86168987e+00+8.52334671e+00j  1.35995333e+01-1.49277516e+00j\n",
      "  6.60992456e+00+2.06074037e-01j -4.64384628e+00-1.88824828e+01j\n",
      " -1.27430526e+01+2.82836786e+00j  1.20792766e+01+2.05908092e+00j\n",
      "  6.08767084e+00-2.71161226e+01j  3.11696387e+00-1.05544151e+01j\n",
      "  2.00898273e+00-1.51686525e-01j -1.45318657e+01+1.17313422e+01j\n",
      "  1.15828562e+01-4.65504090e+00j  8.63615628e+00-6.87702348e-01j\n",
      " -1.49393984e+00-7.31800273e+00j  5.55565720e+00+6.50179077e+00j\n",
      " -1.47355720e+01+3.34319328e+00j  3.19357535e+00-5.26478855e-01j\n",
      "  1.38414699e+01+1.89880049e+01j  1.33893330e+00+3.65750865e+00j\n",
      "  5.63356387e+00-1.03478634e+01j -6.55167773e+00+1.38557813e+01j\n",
      "  1.40540158e+01-1.32839069e+01j -3.26598912e+00+4.86937227e-01j\n",
      " -2.53718630e+01-4.30115244e-01j  1.35672551e+01-1.95158479e+01j\n",
      "  1.11016518e+01+7.69056338e+00j -2.49118723e+01-4.37097214e+00j\n",
      "  1.04096038e+01-1.17000097e+00j -2.40315320e+01+6.74398934e-01j\n",
      " -1.82815652e+01-9.63158716e+00j  2.47925714e+00+4.66184665e+00j\n",
      "  2.57239921e+00+9.56114783e+00j  7.40554122e+00+1.32461678e+01j\n",
      "  1.00288563e+01-1.26092081e+01j -5.50713786e+00+1.47503792e+01j\n",
      " -3.13109779e-01+2.40647824e+00j -6.06414562e+00+4.18672237e-01j\n",
      "  1.06276670e+01-1.48645860e+01j -6.65843285e-03+9.12229137e+00j\n",
      "  2.56445556e+00+6.59756153e+00j  1.17111392e+01-1.07861138e+01j\n",
      " -1.17920129e+01-1.57495765e+01j  2.08894961e+01+1.30151850e+01j\n",
      " -1.84726374e+01-4.39729403e+00j  9.64956409e+00-1.81881614e+01j\n",
      " -1.60004258e+01+1.35074365e+01j  8.01674927e+00-1.04411993e+00j\n",
      "  4.67326644e+00-9.96485885e+00j -4.69071637e+00-5.67705346e+00j\n",
      "  1.13819483e+01-7.87944105e+00j  1.27241869e+00-6.30805532e+00j\n",
      " -2.57009585e+00+8.43735035e+00j -2.05991930e+01+1.73436705e+00j\n",
      " -6.51569695e+00+1.07463398e+01j  1.34381567e+01-1.48202931e+01j\n",
      "  1.78364315e+01-1.49516343e+00j  4.86737911e+00-1.00072310e+01j\n",
      " -3.13326281e+00+1.65334454e+01j -5.75351642e+00-1.45908900e+01j\n",
      "  7.05145837e+00+7.84817673e+00j -1.95865553e+01-1.26868365e+01j\n",
      "  1.26001539e+00+4.41278025e+00j  9.67345121e+00-2.03717712e+01j\n",
      "  1.19279442e+00-4.68071231e+00j  8.75325906e+00-1.04866346e+01j\n",
      "  1.48686061e+01+1.21750243e+01j  8.01263007e+00+1.15106294e+01j\n",
      " -7.16275612e+00-1.02041632e+01j  2.64247580e+00-2.50310509e+01j\n",
      "  1.63204089e+00+5.04634803e+00j -1.81479948e+00-1.99201131e+01j\n",
      "  6.56561901e+00-8.21278031e+00j  1.48657357e+01+1.42845637e+01j\n",
      "  1.11567478e+00-5.08144571e-01j -1.94367071e+00-2.34974073e+01j\n",
      "  6.06013882e-01-8.34435289e+00j  9.95105916e+00-4.96856904e+00j\n",
      " -1.56550186e+01+4.22381773e+00j -5.95220233e-01+5.41171969e-01j\n",
      "  6.96177449e+00-2.00470787e+01j  1.37502382e-01+6.12668834e-01j\n",
      " -1.04201913e+01+2.90072581e+01j -6.31469861e+00-9.41621339e+00j\n",
      "  1.50762241e+00+2.68674549e+01j -1.88263947e+01-6.15531492e+00j\n",
      "  2.69938300e+01+3.16537927e+01j -1.67465750e+01-3.67577975e+00j\n",
      " -6.56668409e+00-7.94523069e+00j  1.24227272e+01-1.69924985e+01j\n",
      " -9.29539436e+00+8.86399397e+00j  2.63152815e+00-6.93938792e+00j\n",
      " -1.49741882e+01+1.08478405e+01j  1.13379086e+01+2.60486830e+00j\n",
      " -8.38908380e+00-1.69887738e+00j  1.28870245e+01-5.02549576e+00j\n",
      "  8.57072959e+00-4.00237026e+00j -3.51789209e+00+4.30638682e-01j\n",
      "  1.75796337e+01-6.75898994e-01j  1.07265220e+00+1.77112100e-02j\n",
      " -3.28291669e+01+1.56538462e-01j  6.72499280e+00-2.28310263e+00j\n",
      "  1.08269933e+01-2.42294635e+01j -9.78509431e+00-3.03564141e+00j\n",
      "  1.07143411e+01-4.17814859e+00j -1.04793103e+01-1.74775364e+00j\n",
      "  3.83511824e-01+8.16988740e+00j  1.02908045e+01-1.34945107e+01j\n",
      "  1.16535145e+01-1.63601761e-02j -1.19846374e+01-1.81805247e+00j\n",
      "  9.05888949e+00+1.07776862e+01j  7.07844519e+00+1.40694820e+00j\n",
      "  2.27953943e+00+1.34552790e+00j -2.01558768e+01+1.27708087e-01j\n",
      "  5.90483274e+00-3.34135554e+00j  5.88026342e+00+1.70423229e+01j\n",
      " -4.76880976e+00-2.00889521e+00j -3.85704611e+00+7.20918439e+00j\n",
      " -2.73951823e-01-2.74118259e+00j  1.80454851e+01-8.51434947e+00j\n",
      " -9.65583807e+00+3.37732042e+00j -1.39496404e+01-1.02907968e+01j\n",
      " -5.55123664e+00-1.86605511e+00j  7.54740316e+00-1.49892068e+00j\n",
      " -4.82706437e+00+1.49761531e+01j -2.18055389e+01-1.79594808e+01j\n",
      " -1.08952541e+00+3.33651476e+00j  1.67549731e+01+9.12344673e-01j\n",
      "  7.93211274e+00-2.60057627e+01j -1.54272066e+01-1.76924938e+01j\n",
      "  8.21317413e+00-4.96152507e+00j -1.93306766e+01-2.88325900e+00j\n",
      "  1.29398281e+01+4.64536925e+00j -1.62040699e+00-1.77701004e+01j\n",
      "  6.22720931e+00+4.71021472e+00j  1.90004745e+01+2.77940663e+00j\n",
      " -2.59658286e+00-1.54662415e+00j -1.87187897e+01+2.46994141e+00j\n",
      "  9.38895454e+00-1.16624077e+00j  1.39830312e+01-6.93099655e-01j\n",
      " -1.68109259e+01+3.12066038e+00j  2.43464600e+01-2.11757534e+00j\n",
      "  1.14795315e+01-1.05757899e+01j -6.61494631e+00+4.45397094e+00j\n",
      " -9.82013748e+00+4.47690657e+00j -9.02998915e+00+5.43709128e+00j\n",
      " -6.28370518e+00-3.71478348e+00j  7.37849398e+00-1.20618996e+01j\n",
      "  1.45312337e+01-9.29051116e+00j -1.01954431e+01+2.00173517e+01j\n",
      "  1.84334248e+00+1.13648591e+01j -3.87994537e+01-6.31886314e+00j\n",
      "  1.64116541e+01+1.09317701e+01j  1.54108269e+01-1.56877094e+00j\n",
      " -6.33371856e+00-8.45877679e+00j -1.16964732e+00+1.57668013e+01j\n",
      "  4.93691730e+00-4.33807129e+00j  1.24864949e+00-1.85815759e+00j\n",
      " -7.69265666e+00-4.95906059e+00j  4.82246768e+00-6.24287009e+00j\n",
      "  1.21427511e+01-1.16427481e+01j  5.72417529e+00-2.71135947e+01j\n",
      " -1.36457701e+01+1.09598431e+00j -1.76405662e+01-3.38352358e+00j\n",
      " -2.71202217e+00-1.90350340e+01j -2.34679740e+01-8.69043337e+00j\n",
      "  1.24812604e+01-6.59195713e+00j -2.86944230e+00+2.56710835e+00j\n",
      "  1.56934490e+01-2.12305888e+01j -1.14500712e+01+6.47608783e+00j\n",
      "  5.53144170e+00-8.36226387e-01j -6.12666494e+00-2.16979572e+01j\n",
      "  1.36873881e+01+5.81868938e+00j  8.04462539e+00+9.55812810e+00j\n",
      "  1.84317763e+00+2.99921475e+00j -5.33476871e-01+3.87021494e-01j\n",
      "  1.45127823e+01-1.67566200e+01j  5.37474078e+00-2.28346685e+00j\n",
      " -9.10182992e+00+8.77422607e+00j -1.39132264e+01-3.84934033e+00j\n",
      " -1.22330433e+01-3.36457003e+00j -1.17769829e+00+1.10643776e+00j\n",
      " -8.27834301e+00-8.26222323e+00j -2.09060707e+01-5.12296862e+00j\n",
      " -1.08078909e+01-2.90591561e+01j  2.04961632e+01-9.20165247e+00j\n",
      "  5.43551589e+00-4.97883407e+00j  6.15257747e+00-1.16891353e+01j\n",
      " -4.22873917e+00-4.45933150e+00j  2.27206485e+01+6.48954925e+00j\n",
      " -2.44882004e+01+9.74251386e+00j -1.88406534e+01-2.88722157e+00j\n",
      "  1.51310319e+00+7.15960875e+00j  1.75503120e+01-1.95439214e+01j\n",
      "  7.91649856e+00-2.66060840e+01j -1.30111705e+01+4.92043549e+00j\n",
      "  8.66489736e+00-1.46889070e+00j  7.75515815e+00-8.48717881e+00j\n",
      "  1.10925566e+01-9.10270129e+00j  3.01045993e+00+4.27992791e+00j\n",
      " -2.24159090e+01-1.64915372e+01j -3.91788209e+00+8.42947757e-01j\n",
      " -1.47611138e+01-5.68599921e+00j  4.57059384e+00+2.45023666e+01j\n",
      "  1.91030177e+01-2.24554331e+00j  5.89307604e+00+1.46137499e+01j\n",
      "  1.99399278e+00-1.47317424e+01j  2.56507406e+00-6.22235551e+00j\n",
      " -1.07071003e+01+4.87046614e+00j -3.53491699e+00-2.54560302e+00j\n",
      "  2.26552878e+00+2.76052242e+00j  5.94500129e+00+9.98241642e+00j\n",
      " -1.69913315e+01-6.49756726e+00j -6.09496295e+00-4.41725196e+00j\n",
      " -5.93642750e+00-8.59292204e+00j  6.40477933e+00-2.58231857e+00j\n",
      " -4.95832425e+00+1.46223797e+00j  9.48392637e+00-8.13970798e+00j\n",
      "  5.14269487e+00+5.08077689e+00j  1.12296610e+01-2.21585997e+00j\n",
      " -4.25175525e+00-1.02173962e+01j -3.11969230e+00+3.49961820e+00j\n",
      "  2.51705864e+01+5.35260872e+00j  7.92520556e+00-1.65854196e+01j\n",
      " -4.05909170e+00-2.00830451e+00j  7.43269665e+00-8.19887819e-01j\n",
      " -2.31347245e+00-1.03222681e+01j -6.99358587e-01-1.01387893e+01j\n",
      " -1.30385550e+01+2.82120173e+00j -1.09572815e+01-9.45263918e+00j\n",
      " -1.36424681e+01+1.40104612e+01j -4.62476183e+00-3.71995474e+00j\n",
      " -4.61934780e+00-5.46092207e+00j -6.16051590e+00+8.88062130e+00j\n",
      "  1.84223562e+01-7.49553310e+00j  1.17795812e+01-8.21784217e+00j\n",
      " -5.98823595e+00+1.38400486e+01j  5.11661307e+00+1.31334935e+01j\n",
      "  6.58514194e+00+7.33290850e+00j  1.37164520e+00-2.58812446e+00j\n",
      " -7.15634426e+00+7.99881513e+00j -5.12126109e+00+3.60259440e+00j\n",
      "  2.23365392e+01-9.90092836e-01j  1.95868223e+01+7.88599416e+00j\n",
      "  1.23930121e+01-1.67095128e+00j  2.10840292e+00+9.48116982e+00j\n",
      " -1.00704891e+01-8.01623779e+00j  5.19405342e+00+8.19825683e+00j\n",
      "  7.71496697e+00-2.45818569e+01j  7.29945127e+00-1.08668470e+00j\n",
      " -7.22817617e+00-1.50116105e+01j -9.57701543e-01+1.47813007e+01j\n",
      "  2.69767561e+01-8.49767342e+00j -7.07623927e+00-8.12719340e-01j\n",
      "  7.81963430e+00+5.90351149e+00j  1.70510561e+00-9.65712897e+00j\n",
      "  1.51911450e+01-6.11247843e+00j -9.72234656e-01-9.83200421e+00j\n",
      " -4.37517202e+00-1.15185949e+01j  8.58867639e-03-3.02301088e+00j\n",
      "  1.13748039e+01+6.65136919e+00j  7.55349331e+00-6.04545815e+00j\n",
      " -4.54628434e+00+1.54680390e+00j -1.36896734e+00+3.70647674e+00j\n",
      " -8.22936752e+00-1.03057863e+01j -1.33950696e+00+7.15232404e+00j\n",
      " -4.79438819e+00-9.61238758e+00j  8.12173791e+00+1.65329560e+00j\n",
      "  1.44493696e+00-6.05058464e+00j  3.30220377e+00-3.60677712e+00j\n",
      " -7.27975202e+00-1.85871726e+01j  1.01450673e+01+1.85785398e+00j\n",
      " -1.32100334e+00+6.49470815e+00j  7.80752930e+00-1.45183789e+00j\n",
      "  8.83975249e+00-1.53651252e+00j -1.75793776e+01-1.07536578e+00j\n",
      " -6.96081507e+00+2.95909322e+00j -8.90566995e+00-1.00509586e+01j\n",
      "  3.20109707e+00+1.64646633e+01j  2.39819665e+00+6.96116252e+00j\n",
      " -1.02542611e+01+2.13199137e+01j -1.06845952e+01+1.60511070e+01j\n",
      "  2.17436909e+01-8.67184307e+00j -6.71000121e+00+3.22579158e+00j\n",
      "  1.53423868e+00-1.67110571e+01j -1.04542617e+01-2.12345654e+01j\n",
      "  5.30047907e+00+3.22307793e-01j  7.07610488e+00-7.38334893e+00j\n",
      " -1.27009007e+00+8.59866088e+00j  8.16047005e+00+1.15196573e+01j\n",
      " -6.65693190e+00+1.53350608e+01j  2.65286207e+01-1.29775208e+01j\n",
      " -7.10131253e+00+2.75270366e+01j  1.35434179e+01+1.01981644e+01j\n",
      " -7.70978527e+00+6.53028725e+00j  1.68173797e+01-1.74052350e+00j\n",
      "  1.20939388e+01+7.08268230e+00j -7.28121746e+00+5.03277095e+00j\n",
      " -2.90033222e+00+1.23859497e+01j  1.01249402e+01-1.52111620e+01j\n",
      "  1.43192807e+01+5.68094864e+00j  4.13866737e+00+8.86066276e+00j\n",
      "  1.13819691e+01-1.22964660e+01j  3.16438432e+00+8.77160761e+00j\n",
      "  1.20532797e+01-1.68467019e+00j -5.56986446e+00-2.38516658e+01j\n",
      " -2.13729659e+01-3.31265141e+00j  1.02450646e+01-1.05541073e+00j\n",
      " -2.57474655e+00-4.72909098e+00j -2.83963363e+00-1.11638407e+00j\n",
      "  6.33430594e+00-1.30584997e+00j -1.26411126e+01-1.00913618e+01j\n",
      " -1.05395454e+00+1.32124985e+01j -1.97298242e+01+4.94144333e+00j\n",
      "  2.34476219e+00+2.16568596e+00j -1.28751376e+01+1.18104955e+01j\n",
      " -1.15170694e+01+1.01616340e+01j  5.35197452e+00-1.30231670e+01j\n",
      "  1.70722579e+00-1.64907773e+01j -8.68550364e+00-5.61330287e+00j\n",
      " -2.32519279e+01+6.81802724e+00j -5.11288221e+00-5.08655800e+00j\n",
      " -5.44476378e+00+1.28018375e+01j -1.64083386e+00-2.09479533e+00j\n",
      " -1.57225985e+01+9.07515596e+00j -2.10399964e+01+1.54314309e+00j\n",
      "  1.55898085e+01+2.16174945e+01j  1.64998575e+00+3.47797991e+00j\n",
      " -1.86362150e+01-8.53272238e-01j -2.82932828e+01+1.05206054e+01j\n",
      "  5.20565835e+00+8.72132067e-01j -2.23068507e+00+2.14951085e+01j\n",
      "  5.03110336e+00+1.23823487e+01j  2.46043649e+01+1.29935661e+01j\n",
      "  2.80185136e-01-2.24412149e+00j  1.17532380e+01-1.17489309e+01j\n",
      " -6.59409263e+00-1.81880335e+01j -5.23620994e+00-2.31522742e+00j\n",
      "  1.07830130e+01-6.82889907e+00j -5.65022054e+00+4.07037213e+00j\n",
      " -8.65542813e+00-5.33906115e+00j -1.27615764e+01+4.36255628e+00j\n",
      "  3.92166611e+00-4.55358274e+00j -1.34657392e+01+5.75260385e+00j\n",
      "  1.19589250e+01+1.39931247e+00j  6.02738984e-01-1.00954967e+01j\n",
      "  4.95779824e+00+1.40535361e+01j  3.87769465e+00-3.88939183e+00j\n",
      " -8.70048672e+00-3.72476041e+00j  9.53961731e+00+8.33149911e+00j\n",
      " -2.19826663e+01+5.67914587e+00j  1.49450487e+01+1.96116554e+01j\n",
      " -9.02597044e+00-5.51494120e+00j  9.07746804e+00+1.02919788e+01j\n",
      "  1.22266951e+01-6.27249845e+00j -1.52632912e+01+1.03530246e+01j\n",
      " -4.77028571e+00+1.69721201e+00j  5.76422174e+00+6.16284920e+00j\n",
      " -2.17836043e+01-3.81151615e+00j  1.51726691e+01-9.13416808e+00j\n",
      " -8.79959767e+00+1.73962472e+01j  3.76447069e+00+1.52973548e+01j\n",
      "  1.76322389e-01+1.73272284e+00j -1.25032503e+00-3.54204211e+00j\n",
      " -3.82743372e+01+1.47265412e+01j -1.97819145e+00+1.71520340e-01j\n",
      "  5.38227060e+00-1.18265085e+00j  1.30753152e+01+2.23465748e+01j\n",
      " -1.97175258e+00+2.39388269e+00j  1.71435694e+01-8.59723210e+00j\n",
      " -6.44383918e+00-6.10241411e+00j -2.08583595e+01+1.99197093e+01j\n",
      "  1.73802063e+00-0.00000000e+00j -2.08583595e+01-1.99197093e+01j\n",
      " -6.44383918e+00+6.10241411e+00j  1.71435694e+01+8.59723210e+00j\n",
      " -1.97175258e+00-2.39388269e+00j  1.30753152e+01-2.23465748e+01j\n",
      "  5.38227060e+00+1.18265085e+00j -1.97819145e+00-1.71520340e-01j\n",
      " -3.82743372e+01-1.47265412e+01j -1.25032503e+00+3.54204211e+00j\n",
      "  1.76322389e-01-1.73272284e+00j  3.76447069e+00-1.52973548e+01j\n",
      " -8.79959767e+00-1.73962472e+01j  1.51726691e+01+9.13416808e+00j\n",
      " -2.17836043e+01+3.81151615e+00j  5.76422174e+00-6.16284920e+00j\n",
      " -4.77028571e+00-1.69721201e+00j -1.52632912e+01-1.03530246e+01j\n",
      "  1.22266951e+01+6.27249845e+00j  9.07746804e+00-1.02919788e+01j\n",
      " -9.02597044e+00+5.51494120e+00j  1.49450487e+01-1.96116554e+01j\n",
      " -2.19826663e+01-5.67914587e+00j  9.53961731e+00-8.33149911e+00j\n",
      " -8.70048672e+00+3.72476041e+00j  3.87769465e+00+3.88939183e+00j\n",
      "  4.95779824e+00-1.40535361e+01j  6.02738984e-01+1.00954967e+01j\n",
      "  1.19589250e+01-1.39931247e+00j -1.34657392e+01-5.75260385e+00j\n",
      "  3.92166611e+00+4.55358274e+00j -1.27615764e+01-4.36255628e+00j\n",
      " -8.65542813e+00+5.33906115e+00j -5.65022054e+00-4.07037213e+00j\n",
      "  1.07830130e+01+6.82889907e+00j -5.23620994e+00+2.31522742e+00j\n",
      " -6.59409263e+00+1.81880335e+01j  1.17532380e+01+1.17489309e+01j\n",
      "  2.80185136e-01+2.24412149e+00j  2.46043649e+01-1.29935661e+01j\n",
      "  5.03110336e+00-1.23823487e+01j -2.23068507e+00-2.14951085e+01j\n",
      "  5.20565835e+00-8.72132067e-01j -2.82932828e+01-1.05206054e+01j\n",
      " -1.86362150e+01+8.53272238e-01j  1.64998575e+00-3.47797991e+00j\n",
      "  1.55898085e+01-2.16174945e+01j -2.10399964e+01-1.54314309e+00j\n",
      " -1.57225985e+01-9.07515596e+00j -1.64083386e+00+2.09479533e+00j\n",
      " -5.44476378e+00-1.28018375e+01j -5.11288221e+00+5.08655800e+00j\n",
      " -2.32519279e+01-6.81802724e+00j -8.68550364e+00+5.61330287e+00j\n",
      "  1.70722579e+00+1.64907773e+01j  5.35197452e+00+1.30231670e+01j\n",
      " -1.15170694e+01-1.01616340e+01j -1.28751376e+01-1.18104955e+01j\n",
      "  2.34476219e+00-2.16568596e+00j -1.97298242e+01-4.94144333e+00j\n",
      " -1.05395454e+00-1.32124985e+01j -1.26411126e+01+1.00913618e+01j\n",
      "  6.33430594e+00+1.30584997e+00j -2.83963363e+00+1.11638407e+00j\n",
      " -2.57474655e+00+4.72909098e+00j  1.02450646e+01+1.05541073e+00j\n",
      " -2.13729659e+01+3.31265141e+00j -5.56986446e+00+2.38516658e+01j\n",
      "  1.20532797e+01+1.68467019e+00j  3.16438432e+00-8.77160761e+00j\n",
      "  1.13819691e+01+1.22964660e+01j  4.13866737e+00-8.86066276e+00j\n",
      "  1.43192807e+01-5.68094864e+00j  1.01249402e+01+1.52111620e+01j\n",
      " -2.90033222e+00-1.23859497e+01j -7.28121746e+00-5.03277095e+00j\n",
      "  1.20939388e+01-7.08268230e+00j  1.68173797e+01+1.74052350e+00j\n",
      " -7.70978527e+00-6.53028725e+00j  1.35434179e+01-1.01981644e+01j\n",
      " -7.10131253e+00-2.75270366e+01j  2.65286207e+01+1.29775208e+01j\n",
      " -6.65693190e+00-1.53350608e+01j  8.16047005e+00-1.15196573e+01j\n",
      " -1.27009007e+00-8.59866088e+00j  7.07610488e+00+7.38334893e+00j\n",
      "  5.30047907e+00-3.22307793e-01j -1.04542617e+01+2.12345654e+01j\n",
      "  1.53423868e+00+1.67110571e+01j -6.71000121e+00-3.22579158e+00j\n",
      "  2.17436909e+01+8.67184307e+00j -1.06845952e+01-1.60511070e+01j\n",
      " -1.02542611e+01-2.13199137e+01j  2.39819665e+00-6.96116252e+00j\n",
      "  3.20109707e+00-1.64646633e+01j -8.90566995e+00+1.00509586e+01j\n",
      " -6.96081507e+00-2.95909322e+00j -1.75793776e+01+1.07536578e+00j\n",
      "  8.83975249e+00+1.53651252e+00j  7.80752930e+00+1.45183789e+00j\n",
      " -1.32100334e+00-6.49470815e+00j  1.01450673e+01-1.85785398e+00j\n",
      " -7.27975202e+00+1.85871726e+01j  3.30220377e+00+3.60677712e+00j\n",
      "  1.44493696e+00+6.05058464e+00j  8.12173791e+00-1.65329560e+00j\n",
      " -4.79438819e+00+9.61238758e+00j -1.33950696e+00-7.15232404e+00j\n",
      " -8.22936752e+00+1.03057863e+01j -1.36896734e+00-3.70647674e+00j\n",
      " -4.54628434e+00-1.54680390e+00j  7.55349331e+00+6.04545815e+00j\n",
      "  1.13748039e+01-6.65136919e+00j  8.58867639e-03+3.02301088e+00j\n",
      " -4.37517202e+00+1.15185949e+01j -9.72234656e-01+9.83200421e+00j\n",
      "  1.51911450e+01+6.11247843e+00j  1.70510561e+00+9.65712897e+00j\n",
      "  7.81963430e+00-5.90351149e+00j -7.07623927e+00+8.12719340e-01j\n",
      "  2.69767561e+01+8.49767342e+00j -9.57701543e-01-1.47813007e+01j\n",
      " -7.22817617e+00+1.50116105e+01j  7.29945127e+00+1.08668470e+00j\n",
      "  7.71496697e+00+2.45818569e+01j  5.19405342e+00-8.19825683e+00j\n",
      " -1.00704891e+01+8.01623779e+00j  2.10840292e+00-9.48116982e+00j\n",
      "  1.23930121e+01+1.67095128e+00j  1.95868223e+01-7.88599416e+00j\n",
      "  2.23365392e+01+9.90092836e-01j -5.12126109e+00-3.60259440e+00j\n",
      " -7.15634426e+00-7.99881513e+00j  1.37164520e+00+2.58812446e+00j\n",
      "  6.58514194e+00-7.33290850e+00j  5.11661307e+00-1.31334935e+01j\n",
      " -5.98823595e+00-1.38400486e+01j  1.17795812e+01+8.21784217e+00j\n",
      "  1.84223562e+01+7.49553310e+00j -6.16051590e+00-8.88062130e+00j\n",
      " -4.61934780e+00+5.46092207e+00j -4.62476183e+00+3.71995474e+00j\n",
      " -1.36424681e+01-1.40104612e+01j -1.09572815e+01+9.45263918e+00j\n",
      " -1.30385550e+01-2.82120173e+00j -6.99358587e-01+1.01387893e+01j\n",
      " -2.31347245e+00+1.03222681e+01j  7.43269665e+00+8.19887819e-01j\n",
      " -4.05909170e+00+2.00830451e+00j  7.92520556e+00+1.65854196e+01j\n",
      "  2.51705864e+01-5.35260872e+00j -3.11969230e+00-3.49961820e+00j\n",
      " -4.25175525e+00+1.02173962e+01j  1.12296610e+01+2.21585997e+00j\n",
      "  5.14269487e+00-5.08077689e+00j  9.48392637e+00+8.13970798e+00j\n",
      " -4.95832425e+00-1.46223797e+00j  6.40477933e+00+2.58231857e+00j\n",
      " -5.93642750e+00+8.59292204e+00j -6.09496295e+00+4.41725196e+00j\n",
      " -1.69913315e+01+6.49756726e+00j  5.94500129e+00-9.98241642e+00j\n",
      "  2.26552878e+00-2.76052242e+00j -3.53491699e+00+2.54560302e+00j\n",
      " -1.07071003e+01-4.87046614e+00j  2.56507406e+00+6.22235551e+00j\n",
      "  1.99399278e+00+1.47317424e+01j  5.89307604e+00-1.46137499e+01j\n",
      "  1.91030177e+01+2.24554331e+00j  4.57059384e+00-2.45023666e+01j\n",
      " -1.47611138e+01+5.68599921e+00j -3.91788209e+00-8.42947757e-01j\n",
      " -2.24159090e+01+1.64915372e+01j  3.01045993e+00-4.27992791e+00j\n",
      "  1.10925566e+01+9.10270129e+00j  7.75515815e+00+8.48717881e+00j\n",
      "  8.66489736e+00+1.46889070e+00j -1.30111705e+01-4.92043549e+00j\n",
      "  7.91649856e+00+2.66060840e+01j  1.75503120e+01+1.95439214e+01j\n",
      "  1.51310319e+00-7.15960875e+00j -1.88406534e+01+2.88722157e+00j\n",
      " -2.44882004e+01-9.74251386e+00j  2.27206485e+01-6.48954925e+00j\n",
      " -4.22873917e+00+4.45933150e+00j  6.15257747e+00+1.16891353e+01j\n",
      "  5.43551589e+00+4.97883407e+00j  2.04961632e+01+9.20165247e+00j\n",
      " -1.08078909e+01+2.90591561e+01j -2.09060707e+01+5.12296862e+00j\n",
      " -8.27834301e+00+8.26222323e+00j -1.17769829e+00-1.10643776e+00j\n",
      " -1.22330433e+01+3.36457003e+00j -1.39132264e+01+3.84934033e+00j\n",
      " -9.10182992e+00-8.77422607e+00j  5.37474078e+00+2.28346685e+00j\n",
      "  1.45127823e+01+1.67566200e+01j -5.33476871e-01-3.87021494e-01j\n",
      "  1.84317763e+00-2.99921475e+00j  8.04462539e+00-9.55812810e+00j\n",
      "  1.36873881e+01-5.81868938e+00j -6.12666494e+00+2.16979572e+01j\n",
      "  5.53144170e+00+8.36226387e-01j -1.14500712e+01-6.47608783e+00j\n",
      "  1.56934490e+01+2.12305888e+01j -2.86944230e+00-2.56710835e+00j\n",
      "  1.24812604e+01+6.59195713e+00j -2.34679740e+01+8.69043337e+00j\n",
      " -2.71202217e+00+1.90350340e+01j -1.76405662e+01+3.38352358e+00j\n",
      " -1.36457701e+01-1.09598431e+00j  5.72417529e+00+2.71135947e+01j\n",
      "  1.21427511e+01+1.16427481e+01j  4.82246768e+00+6.24287009e+00j\n",
      " -7.69265666e+00+4.95906059e+00j  1.24864949e+00+1.85815759e+00j\n",
      "  4.93691730e+00+4.33807129e+00j -1.16964732e+00-1.57668013e+01j\n",
      " -6.33371856e+00+8.45877679e+00j  1.54108269e+01+1.56877094e+00j\n",
      "  1.64116541e+01-1.09317701e+01j -3.87994537e+01+6.31886314e+00j\n",
      "  1.84334248e+00-1.13648591e+01j -1.01954431e+01-2.00173517e+01j\n",
      "  1.45312337e+01+9.29051116e+00j  7.37849398e+00+1.20618996e+01j\n",
      " -6.28370518e+00+3.71478348e+00j -9.02998915e+00-5.43709128e+00j\n",
      " -9.82013748e+00-4.47690657e+00j -6.61494631e+00-4.45397094e+00j\n",
      "  1.14795315e+01+1.05757899e+01j  2.43464600e+01+2.11757534e+00j\n",
      " -1.68109259e+01-3.12066038e+00j  1.39830312e+01+6.93099655e-01j\n",
      "  9.38895454e+00+1.16624077e+00j -1.87187897e+01-2.46994141e+00j\n",
      " -2.59658286e+00+1.54662415e+00j  1.90004745e+01-2.77940663e+00j\n",
      "  6.22720931e+00-4.71021472e+00j -1.62040699e+00+1.77701004e+01j\n",
      "  1.29398281e+01-4.64536925e+00j -1.93306766e+01+2.88325900e+00j\n",
      "  8.21317413e+00+4.96152507e+00j -1.54272066e+01+1.76924938e+01j\n",
      "  7.93211274e+00+2.60057627e+01j  1.67549731e+01-9.12344673e-01j\n",
      " -1.08952541e+00-3.33651476e+00j -2.18055389e+01+1.79594808e+01j\n",
      " -4.82706437e+00-1.49761531e+01j  7.54740316e+00+1.49892068e+00j\n",
      " -5.55123664e+00+1.86605511e+00j -1.39496404e+01+1.02907968e+01j\n",
      " -9.65583807e+00-3.37732042e+00j  1.80454851e+01+8.51434947e+00j\n",
      " -2.73951823e-01+2.74118259e+00j -3.85704611e+00-7.20918439e+00j\n",
      " -4.76880976e+00+2.00889521e+00j  5.88026342e+00-1.70423229e+01j\n",
      "  5.90483274e+00+3.34135554e+00j -2.01558768e+01-1.27708087e-01j\n",
      "  2.27953943e+00-1.34552790e+00j  7.07844519e+00-1.40694820e+00j\n",
      "  9.05888949e+00-1.07776862e+01j -1.19846374e+01+1.81805247e+00j\n",
      "  1.16535145e+01+1.63601761e-02j  1.02908045e+01+1.34945107e+01j\n",
      "  3.83511824e-01-8.16988740e+00j -1.04793103e+01+1.74775364e+00j\n",
      "  1.07143411e+01+4.17814859e+00j -9.78509431e+00+3.03564141e+00j\n",
      "  1.08269933e+01+2.42294635e+01j  6.72499280e+00+2.28310263e+00j\n",
      " -3.28291669e+01-1.56538462e-01j  1.07265220e+00-1.77112100e-02j\n",
      "  1.75796337e+01+6.75898994e-01j -3.51789209e+00-4.30638682e-01j\n",
      "  8.57072959e+00+4.00237026e+00j  1.28870245e+01+5.02549576e+00j\n",
      " -8.38908380e+00+1.69887738e+00j  1.13379086e+01-2.60486830e+00j\n",
      " -1.49741882e+01-1.08478405e+01j  2.63152815e+00+6.93938792e+00j\n",
      " -9.29539436e+00-8.86399397e+00j  1.24227272e+01+1.69924985e+01j\n",
      " -6.56668409e+00+7.94523069e+00j -1.67465750e+01+3.67577975e+00j\n",
      "  2.69938300e+01-3.16537927e+01j -1.88263947e+01+6.15531492e+00j\n",
      "  1.50762241e+00-2.68674549e+01j -6.31469861e+00+9.41621339e+00j\n",
      " -1.04201913e+01-2.90072581e+01j  1.37502382e-01-6.12668834e-01j\n",
      "  6.96177449e+00+2.00470787e+01j -5.95220233e-01-5.41171969e-01j\n",
      " -1.56550186e+01-4.22381773e+00j  9.95105916e+00+4.96856904e+00j\n",
      "  6.06013882e-01+8.34435289e+00j -1.94367071e+00+2.34974073e+01j\n",
      "  1.11567478e+00+5.08144571e-01j  1.48657357e+01-1.42845637e+01j\n",
      "  6.56561901e+00+8.21278031e+00j -1.81479948e+00+1.99201131e+01j\n",
      "  1.63204089e+00-5.04634803e+00j  2.64247580e+00+2.50310509e+01j\n",
      " -7.16275612e+00+1.02041632e+01j  8.01263007e+00-1.15106294e+01j\n",
      "  1.48686061e+01-1.21750243e+01j  8.75325906e+00+1.04866346e+01j\n",
      "  1.19279442e+00+4.68071231e+00j  9.67345121e+00+2.03717712e+01j\n",
      "  1.26001539e+00-4.41278025e+00j -1.95865553e+01+1.26868365e+01j\n",
      "  7.05145837e+00-7.84817673e+00j -5.75351642e+00+1.45908900e+01j\n",
      " -3.13326281e+00-1.65334454e+01j  4.86737911e+00+1.00072310e+01j\n",
      "  1.78364315e+01+1.49516343e+00j  1.34381567e+01+1.48202931e+01j\n",
      " -6.51569695e+00-1.07463398e+01j -2.05991930e+01-1.73436705e+00j\n",
      " -2.57009585e+00-8.43735035e+00j  1.27241869e+00+6.30805532e+00j\n",
      "  1.13819483e+01+7.87944105e+00j -4.69071637e+00+5.67705346e+00j\n",
      "  4.67326644e+00+9.96485885e+00j  8.01674927e+00+1.04411993e+00j\n",
      " -1.60004258e+01-1.35074365e+01j  9.64956409e+00+1.81881614e+01j\n",
      " -1.84726374e+01+4.39729403e+00j  2.08894961e+01-1.30151850e+01j\n",
      " -1.17920129e+01+1.57495765e+01j  1.17111392e+01+1.07861138e+01j\n",
      "  2.56445556e+00-6.59756153e+00j -6.65843285e-03-9.12229137e+00j\n",
      "  1.06276670e+01+1.48645860e+01j -6.06414562e+00-4.18672237e-01j\n",
      " -3.13109779e-01-2.40647824e+00j -5.50713786e+00-1.47503792e+01j\n",
      "  1.00288563e+01+1.26092081e+01j  7.40554122e+00-1.32461678e+01j\n",
      "  2.57239921e+00-9.56114783e+00j  2.47925714e+00-4.66184665e+00j\n",
      " -1.82815652e+01+9.63158716e+00j -2.40315320e+01-6.74398934e-01j\n",
      "  1.04096038e+01+1.17000097e+00j -2.49118723e+01+4.37097214e+00j\n",
      "  1.11016518e+01-7.69056338e+00j  1.35672551e+01+1.95158479e+01j\n",
      " -2.53718630e+01+4.30115244e-01j -3.26598912e+00-4.86937227e-01j\n",
      "  1.40540158e+01+1.32839069e+01j -6.55167773e+00-1.38557813e+01j\n",
      "  5.63356387e+00+1.03478634e+01j  1.33893330e+00-3.65750865e+00j\n",
      "  1.38414699e+01-1.89880049e+01j  3.19357535e+00+5.26478855e-01j\n",
      " -1.47355720e+01-3.34319328e+00j  5.55565720e+00-6.50179077e+00j\n",
      " -1.49393984e+00+7.31800273e+00j  8.63615628e+00+6.87702348e-01j\n",
      "  1.15828562e+01+4.65504090e+00j -1.45318657e+01-1.17313422e+01j\n",
      "  2.00898273e+00+1.51686525e-01j  3.11696387e+00+1.05544151e+01j\n",
      "  6.08767084e+00+2.71161226e+01j  1.20792766e+01-2.05908092e+00j\n",
      " -1.27430526e+01-2.82836786e+00j -4.64384628e+00+1.88824828e+01j\n",
      "  6.60992456e+00-2.06074037e-01j  1.35995333e+01+1.49277516e+00j\n",
      " -1.86168987e+00-8.52334671e+00j  1.02698141e+01+1.73937316e+01j\n",
      " -9.85801273e+00-2.05282139e+01j -1.67067071e+01+4.65966804e+00j\n",
      "  1.00556076e+01+1.93288366e+01j -1.20101611e+01+4.77529671e+00j\n",
      "  1.15518612e+00-1.05095312e+01j -1.68490047e+01+2.31403403e+01j\n",
      "  1.01084089e+01-7.18716158e-01j -4.56698487e+00+1.85164029e+00j\n",
      "  1.72218320e+01+6.79658905e-01j -3.19509313e+00-2.01376014e+01j\n",
      " -8.43530499e+00+1.10695721e+01j  2.02363782e+00-1.04828754e+01j\n",
      " -1.78588216e+00-1.36692271e+01j  4.28175665e+00+5.57483588e+00j\n",
      "  1.31529359e+01+5.97779433e+00j  9.56172425e-02-1.30520069e+01j\n",
      " -3.05431164e+00+3.37882128e+00j -2.70629167e+00+1.04344882e+01j\n",
      " -1.27374050e+01-1.43745559e+01j -6.22182941e-01+1.86715839e+01j\n",
      "  6.98859226e-01-1.56886102e+01j -1.10318126e+01-5.96376954e-01j\n",
      "  8.57411437e+00-1.29116558e+01j -1.32077249e+01-1.43142476e+01j\n",
      " -1.23805679e+01+3.65049791e+00j -1.27559261e+01-1.58041521e+01j\n",
      "  2.04527521e+00-1.43116925e+01j  5.32063706e+00+3.39244155e+00j\n",
      "  1.09432411e+01+1.48099881e+01j -5.30752969e+00-3.55717233e+00j\n",
      "  1.38495233e+01+2.12448284e-01j  2.08346423e+01-5.14069191e+00j\n",
      " -1.12984233e+01-1.36935482e+01j -1.18134062e+01+5.80822786e+00j\n",
      " -4.79506282e-01-4.53888973e+00j -1.08302301e+01+5.48186338e+00j\n",
      "  6.14124456e+00+1.24657894e+01j  2.90142947e+00+1.19178292e+01j\n",
      " -5.21018612e+00-7.53200358e+00j -6.78655373e+00+5.91213177e+00j\n",
      "  1.37628979e+01+1.14976628e+01j -3.94812369e+00+3.37429217e+00j\n",
      " -4.72502950e+00-1.46809464e+01j  8.25974111e+00-7.19313282e+00j\n",
      "  1.98249951e+00-2.49527161e+01j  2.28107458e+01-1.40009085e+01j\n",
      "  1.53269293e+01-1.17994034e+01j  1.53022395e+01+8.23761522e+00j\n",
      "  7.45830675e+00-2.07944921e+01j  1.31995964e+01+7.85183805e+00j\n",
      " -6.70779718e-01+1.36275873e+00j  1.97903777e+00-2.73696198e-01j\n",
      "  2.13001208e+01+1.94873976e+01j  6.07169826e+00+7.39069492e+00j\n",
      "  3.66281543e+00+4.90827855e+00j  4.49753265e+00-1.89830187e+01j\n",
      " -8.54662382e+00+1.97357079e+00j -1.41553108e+01+1.07596420e+01j\n",
      " -1.28133065e+01+9.35172663e+00j -1.13718095e+01-1.36481934e+01j\n",
      " -2.76664316e+00-9.54325628e+00j  2.34568275e+01+1.09196552e+01j\n",
      " -1.05490352e+01-5.05993855e+00j -1.80782966e+01-5.44830516e+00j\n",
      "  3.39707013e+00-1.34889113e+01j -1.32974557e+01-2.51546450e+01j\n",
      "  5.76222291e+00-7.05609664e+00j -1.58108884e+01-9.95532827e+00j\n",
      " -8.86893154e+00+5.72976311e+00j  7.10364867e+00-1.69294829e+01j\n",
      "  1.92904576e+00+6.34665590e+00j  3.60560723e+00-6.80944389e+00j\n",
      " -1.67113505e+01+4.42941884e+00j -1.78484972e+01+1.43514583e+01j\n",
      "  1.51940886e-01-1.63957612e+01j  1.14881710e+01+1.37025487e+01j\n",
      "  1.92569121e+01+2.24567886e+00j  1.56748243e+00+1.52979088e+00j\n",
      " -7.76970812e-01-3.21357004e-01j  4.37477836e-01+3.90381992e+00j\n",
      " -2.73981239e+00+1.53500216e+00j  6.99972776e-01-1.80561841e+01j\n",
      "  2.25860666e+01-9.83393453e+00j  2.27855636e+01-8.45240809e-01j\n",
      " -7.04570764e+00+8.73228679e+00j -9.41988213e+00+7.39079432e+00j\n",
      "  1.01177983e+01+6.86228706e-01j -3.00871136e+00+9.74235293e+00j\n",
      "  2.30306804e+00+2.33896604e+00j  7.01107751e-01-1.19877706e+01j\n",
      " -1.12501053e+01+5.72666331e+00j  3.79367968e+00+3.77106863e+00j\n",
      " -2.17093927e+00+5.51252919e+00j -9.28764958e+00+1.68328425e+01j\n",
      "  5.00212452e+00+4.73514756e+00j  7.15751057e+00+1.99546066e+00j\n",
      "  2.25042921e+01+5.25475628e+00j -8.48788261e+00+5.37421489e+00j\n",
      "  1.61844449e+01+7.28617230e-01j -1.34435408e+01-1.49549519e+00j\n",
      "  2.41424034e+00-6.63051445e+00j -1.66840212e+00-1.04045490e+01j\n",
      " -2.38760858e+00+5.55698603e+00j -1.31215916e+00-5.59008017e+00j\n",
      " -7.11417306e+00-1.78200035e+01j -2.22642809e+01-3.34724728e-01j\n",
      " -7.81493356e+00+5.48405329e+00j -4.81038580e+00-9.43748146e+00j\n",
      " -7.51823147e+00+1.62533270e+01j -6.56955401e+00+1.80193076e+01j\n",
      "  6.66424001e+00+9.92887580e-01j  9.37393223e+00-1.08805652e+01j\n",
      "  1.32451708e+01+4.14420824e+00j  1.88904185e+01-1.28082408e+00j\n",
      "  5.48772475e+00+1.13199960e+01j  1.07280172e+01-1.32426745e+00j\n",
      "  1.61135719e+01-5.16039418e-01j  5.54997960e+00+7.80933122e-01j\n",
      "  1.70483838e+01-1.37428338e+01j  4.64832131e+01+2.48482941e+01j\n",
      " -2.21010205e+00+1.19151424e+01j  1.18078183e+00+1.18936792e+01j\n",
      " -1.58359890e+01+1.31668369e+01j -2.17280428e+01-2.54038482e+00j\n",
      " -6.72052500e+00+4.90482682e+02j -3.21642526e+00+1.00303467e+01j\n",
      "  8.42835605e+00-8.11372289e+00j  1.04518503e+01-3.48428851e+00j]\n"
     ]
    },
    {
     "data": {
      "text/plain": [
       "(0.0, 10.0)"
      ]
     },
     "execution_count": 19,
     "metadata": {},
     "output_type": "execute_result"
    },
    {
     "data": {
      "image/png": "[encoded data removed]",
      "text/plain": [
       "<Figure size 1200x600 with 1 Axes>"
      ]
     },
     "metadata": {},
     "output_type": "display_data"
    }
   ],
   "source": [
    "from scipy import fftpack\n",
    "sample_freq = fftpack.fftfreq(sig.size, d = time_step)\n",
    "sig_fft = fftpack.fft(sig)\n",
    "print(sig_fft)\n",
    "\n",
    "# Plotting...\n",
    "N = len(sig_fft)\n",
    "n = np.arange(N)\n",
    "T = N/1000\n",
    "freq = n/T \n",
    "\n",
    "plt.figure(figsize = (12, 6))\n",
    "plt.subplot(121)\n",
    "\n",
    "plt.stem(freq, np.abs(sig_fft), 'b', markerfmt=\" \", basefmt=\"-b\")\n",
    "plt.xlabel('Freq (Hz)')\n",
    "plt.ylabel('FFT Amplitude |X(freq)|')\n",
    "plt.xlim(0, 10)"
   ]
  },
  {
   "cell_type": "markdown",
   "metadata": {},
   "source": [
    "### Discrete Cosine Transform\n",
    "\n",
    "A Discrete Cosine Transform (DCT) expresses a finite sequence of data points in terms of a sum of cosine functions oscillating at different frequencies. SciPy provides a DCT with the function dct and a corresponding IDCT with the function idct. Let us consider the following example."
   ]
  },
  {
   "cell_type": "code",
   "execution_count": 4,
   "metadata": {},
   "outputs": [
    {
     "name": "stdout",
     "output_type": "stream",
     "text": [
      "[ 60.          -3.48476592 -13.85640646  11.3137085    6.\n",
      "  -6.31319305]\n"
     ]
    }
   ],
   "source": [
    "import numpy as np\n",
    "from scipy.fftpack import dct\n",
    "\n",
    "print(dct(np.array([4., 3., 5., 10., 5., 3.])))"
   ]
  },
  {
   "cell_type": "markdown",
   "metadata": {},
   "source": [
    "The inverse discrete cosine transform reconstructs a sequence from its discrete cosine transform (DCT) coefficients. The `idct` function is the inverse of the `dct` function. Let us understand this with the following example."
   ]
  },
  {
   "cell_type": "code",
   "execution_count": 6,
   "metadata": {},
   "outputs": [
    {
     "name": "stdout",
     "output_type": "stream",
     "text": [
      "[ 39.15085889 -20.14213562  -6.45392043   7.13341236   8.14213562\n",
      "  -3.83035081]\n"
     ]
    }
   ],
   "source": [
    "from scipy.fftpack import idct\n",
    "print(idct(np.array([4., 3., 5., 10., 5., 3.])))"
   ]
  }
 ],
 "metadata": {
  "kernelspec": {
   "display_name": "py-metro",
   "language": "python",
   "name": "python3"
  },
  "language_info": {
   "codemirror_mode": {
    "name": "ipython",
    "version": 3
   },
   "file_extension": ".py",
   "mimetype": "text/x-python",
   "name": "python",
   "nbconvert_exporter": "python",
   "pygments_lexer": "ipython3",
   "version": "3.11.9"
  }
 },
 "nbformat": 4,
 "nbformat_minor": 2
}
