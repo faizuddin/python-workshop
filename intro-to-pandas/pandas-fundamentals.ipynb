{
 "cells": [
  {
   "cell_type": "markdown",
   "metadata": {},
   "source": [
    "# Pandas Introduction\n",
    "\n",
    "Pandas is a powerful and open-source Python library. The Pandas library is used for data manipulation and analysis. Pandas consist of data structures and functions to perform efficient operations on data.\n",
    "\n",
    "## What is Pandas Libray in Python?\n",
    "Pandas is a powerful and versatile library that simplifies the tasks of data manipulation in Python. Pandas is well-suited for working with tabular data, such as spreadsheets or SQL tables. The Pandas library is an essential tool for data analysts, scientists, and engineers working with structured data in Python.\n",
    "\n",
    "## What is Python Pandas used for?\n",
    "The Pandas library is generally used for data science. This is because the Pandas library is used in conjunction with other libraries that are used for data science.\n",
    "\n",
    "It is built on top of the NumPy library which means that a lot of the structures of NumPy are used or replicated in Pandas.\n",
    "\n",
    "The data produced by Pandas is often used as input for plotting functions in Matplotlib, statistical analysis in SciPy, and machine learning algorithms in Scikit-learn.\n",
    "\n",
    "Some of Pandas functionalities:\n",
    "1. Data set cleaning, merging, and joining.\n",
    "2. Easy handling of missing data (represented as NaN) in floating point as well as non-floating point data.\n",
    "3. Columns can be inserted and deleted from DataFrame and higher-dimensional objects.\n",
    "4. Powerful group by functionality for performing split-apply-combine operations on data sets.\n",
    "5. Data Visualisation.\n",
    "\n",
    "### Installing `pandas`\n",
    "\n",
    "Pandas can installed using **Anaconda Prompt** (`conda install pandas`) or **Anaconda Navigator**.\n",
    "\n",
    "## Data Structures in Pandas Library\n",
    "Pandas generally provide two data structures for manipulating data. They are:\n",
    "\n",
    "1. Series\n",
    "2. DataFrame\n",
    "\n",
    "### Pandas Series\n",
    "A Pandas Series is a one-dimensional labeled array capable of holding data of any type (integer, string, float, Python objects, etc.). The axis labels are collectively called indexes. The Pandas Series is nothing but a column in an Excel sheet. Labels need not be unique but must be of a hashable type. The object supports both integer and label-based indexing and provides a host of methods for performing operations involving the index.\n",
    "\n",
    "### Creating a Series\n",
    "\n",
    "Pandas Series is created by loading the datasets from existing storage (which can be a SQL database, a CSV file, or an Excel file). Pandas Series can be created from lists, dictionaries, scalar values, etc."
   ]
  },
  {
   "cell_type": "code",
   "execution_count": 2,
   "metadata": {},
   "outputs": [
    {
     "name": "stdout",
     "output_type": "stream",
     "text": [
      "Pandas Series:  Series([], dtype: object)\n",
      "Pandas Series:\n",
      " 0    g\n",
      "1    e\n",
      "2    e\n",
      "3    k\n",
      "4    s\n",
      "dtype: object\n"
     ]
    }
   ],
   "source": [
    "import pandas as pd \n",
    "import numpy as np \n",
    "\n",
    "# Creating empty series \n",
    "ser = pd.Series() \n",
    "print(\"Pandas Series: \", ser) \n",
    "\n",
    "# Simple array \n",
    "data = np.array(['g', 'e', 'e', 'k', 's']) \n",
    "\t\n",
    "ser = pd.Series(data) \n",
    "print(\"Pandas Series:\\n\", ser)\n"
   ]
  },
  {
   "cell_type": "markdown",
   "metadata": {},
   "source": [
    "## Pandas DataFrame\n",
    "Pandas DataFrame is a two-dimensional data structure with labeled axes (rows and columns).\n",
    "\n",
    " ![Creating dataframe](images/creating_dataframe.png)\n",
    "\n",
    "### Creating DataFrame\n",
    "\n",
    "Pandas DataFrame is created by loading the datasets from existing storage (which can be a SQL database, a CSV file, or an Excel file). Pandas DataFrame can be created from lists, dictionaries, a list of dictionaries, etc."
   ]
  },
  {
   "cell_type": "code",
   "execution_count": 6,
   "metadata": {},
   "outputs": [
    {
     "name": "stdout",
     "output_type": "stream",
     "text": [
      "Empty DataFrame\n",
      "Columns: []\n",
      "Index: []\n",
      "           0\n",
      "0   National\n",
      "1  Metrology\n",
      "2  Institute\n",
      "3         of\n",
      "4   Malaysia\n"
     ]
    }
   ],
   "source": [
    "# Calling DataFrame constructor \n",
    "df = pd.DataFrame() \n",
    "print(df) \n",
    "\n",
    "# list of strings \n",
    "lst = ['National', 'Metrology', 'Institute', 'of', 'Malaysia'] \n",
    "\t\n",
    "# Calling DataFrame constructor on list \n",
    "df = pd.DataFrame(lst) \n",
    "print(df)\n"
   ]
  },
  {
   "cell_type": "code",
   "execution_count": null,
   "metadata": {},
   "outputs": [],
   "source": []
  }
 ],
 "metadata": {
  "kernelspec": {
   "display_name": "py-metro",
   "language": "python",
   "name": "python3"
  },
  "language_info": {
   "codemirror_mode": {
    "name": "ipython",
    "version": 3
   },
   "file_extension": ".py",
   "mimetype": "text/x-python",
   "name": "python",
   "nbconvert_exporter": "python",
   "pygments_lexer": "ipython3",
   "version": "3.11.9"
  }
 },
 "nbformat": 4,
 "nbformat_minor": 2
}
