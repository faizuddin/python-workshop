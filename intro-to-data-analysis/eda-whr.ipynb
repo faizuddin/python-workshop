{
 "cells": [
  {
   "cell_type": "markdown",
   "id": "7951b4d0",
   "metadata": {
    "_cell_guid": "b1076dfc-b9ad-4769-8c92-a6c4dae69d19",
    "_uuid": "8f2839f25d086af736a60e9eeb907d3b93b6e0e5",
    "papermill": {
     "duration": 0.008914,
     "end_time": "2024-10-04T03:54:25.093956",
     "exception": false,
     "start_time": "2024-10-04T03:54:25.085042",
     "status": "completed"
    },
    "tags": []
   },
   "source": [
    "# Exploratory Data Analysis (EDA)\n",
    "\n",
    "## Why EDA?\n",
    "\n",
    "Because in order to start working with our data, we need to know what kind of data we are dealing with. And this detective work got itself the dry name of exploratory data analysis.\n",
    "\n",
    "These are only some of the questions that we ask ourselves. Depending on the answer, we have to proceed with different processing steps before we can use any algorithms on our data:\n",
    "\n",
    "1. Do we have 1000 or 1 million entries in our data?\n",
    "2. Are we dealing with text or numbers?\n",
    "3. Do we have dates? What format to these dates have?\n",
    "4. Do we have outliers? (Data points that are extremely different than all the other ones)\n",
    "5. Do we have missing data? That is, is any of the cells in our dataset empty?\n",
    "\n",
    "If we just open our data, the ``.csv`` file, in a spreadsheet application say Microsoft Excel and look at it with the naked eye, we won't be able to tell much.\n",
    "\n",
    "In order load our data..."
   ]
  },
  {
   "cell_type": "code",
   "execution_count": 1,
   "id": "3d7329f2",
   "metadata": {
    "execution": {
     "iopub.execute_input": "2024-10-04T03:54:25.113284Z",
     "iopub.status.busy": "2024-10-04T03:54:25.112287Z",
     "iopub.status.idle": "2024-10-04T03:54:40.856464Z",
     "shell.execute_reply": "2024-10-04T03:54:40.855211Z"
    },
    "papermill": {
     "duration": 15.756934,
     "end_time": "2024-10-04T03:54:40.859344",
     "exception": false,
     "start_time": "2024-10-04T03:54:25.102410",
     "status": "completed"
    },
    "tags": []
   },
   "outputs": [
    {
     "name": "stdout",
     "output_type": "stream",
     "text": [
      "Collecting xlrd\n",
      "  Downloading xlrd-2.0.1-py2.py3-none-any.whl.metadata (3.4 kB)\n",
      "Downloading xlrd-2.0.1-py2.py3-none-any.whl (96 kB)\n",
      "\u001b[2K   \u001b[90m━━━━━━━━━━━━━━━━━━━━━━━━━━━━━━━━━━━━━━━━\u001b[0m \u001b[32m96.5/96.5 kB\u001b[0m \u001b[31m2.6 MB/s\u001b[0m eta \u001b[36m0:00:00\u001b[0m\n",
      "\u001b[?25hInstalling collected packages: xlrd\n",
      "Successfully installed xlrd-2.0.1\n"
     ]
    }
   ],
   "source": [
    "!pip install xlrd"
   ]
  },
  {
   "cell_type": "code",
   "execution_count": 4,
   "id": "7a80a3f3",
   "metadata": {
    "execution": {
     "iopub.execute_input": "2024-10-04T03:54:40.879407Z",
     "iopub.status.busy": "2024-10-04T03:54:40.878917Z",
     "iopub.status.idle": "2024-10-04T03:54:41.904105Z",
     "shell.execute_reply": "2024-10-04T03:54:41.903182Z"
    },
    "papermill": {
     "duration": 1.038426,
     "end_time": "2024-10-04T03:54:41.906687",
     "exception": false,
     "start_time": "2024-10-04T03:54:40.868261",
     "status": "completed"
    },
    "tags": []
   },
   "outputs": [],
   "source": [
    "import pandas as pd\n",
    "\n",
    "df = pd.read_excel(\"datasets/whr-2021.xls\")"
   ]
  },
  {
   "cell_type": "markdown",
   "id": "81525679",
   "metadata": {
    "papermill": {
     "duration": 0.008569,
     "end_time": "2024-10-04T03:54:41.924575",
     "exception": false,
     "start_time": "2024-10-04T03:54:41.916006",
     "status": "completed"
    },
    "tags": []
   },
   "source": [
    "## Pandas, Numpy, Matplotlib, Seaborn\n",
    "\n",
    "### Pandas\n",
    "In the code right above, we just imported `pandas` library and used `read_csv` to read our csv data in a *Pandas DataFrame*.\n",
    "\n",
    "Pandas is a software library created for data manipulation and analysis. Using `pandas` we can read various file formats easily into data structures specifically created for data manipulation procedures.\n",
    "\n",
    "The most commonly used data structures in pandas are *Series* and *DataFrame*. Series stores one-dimensional data (like a table with only one column) and DataFrame stores 2-dimensional data (tables with multiple columns).\n",
    "\n",
    "We are not going into much detail on pandas but the best place to learn pandas is the [official documentation](https://pandas.pydata.org/), but if during or after reading this you feel like you need a more thorough work session with pandas, please have a look at this [10 minutes](https://pandas.pydata.org/pandas-docs/stable/user_guide/10min.html) to pandas tutorial (or way more than 10 minutes).\n",
    "\n",
    "### Numpy\n",
    "[Numpy](https://numpy.org/) is a library mainly used for the Mathematical functions it implements. This way we don't have to write the functions ourselves all the time.\n",
    "\n",
    "### Matplotlib\n",
    "Matplotlib brings us data visualisations.\n",
    "\n",
    "### Seaborn\n",
    "Seaborn takes visualisations to the next level: more powerful and more beautiful, and perhaps more abstract than Matplotlib."
   ]
  },
  {
   "cell_type": "code",
   "execution_count": 5,
   "id": "90070917",
   "metadata": {
    "execution": {
     "iopub.execute_input": "2024-10-04T03:54:41.945379Z",
     "iopub.status.busy": "2024-10-04T03:54:41.943948Z",
     "iopub.status.idle": "2024-10-04T03:54:41.979486Z",
     "shell.execute_reply": "2024-10-04T03:54:41.978316Z"
    },
    "papermill": {
     "duration": 0.048385,
     "end_time": "2024-10-04T03:54:41.981956",
     "exception": false,
     "start_time": "2024-10-04T03:54:41.933571",
     "status": "completed"
    },
    "tags": []
   },
   "outputs": [
    {
     "data": {
      "text/html": [
       "<div>\n",
       "<style scoped>\n",
       "    .dataframe tbody tr th:only-of-type {\n",
       "        vertical-align: middle;\n",
       "    }\n",
       "\n",
       "    .dataframe tbody tr th {\n",
       "        vertical-align: top;\n",
       "    }\n",
       "\n",
       "    .dataframe thead th {\n",
       "        text-align: right;\n",
       "    }\n",
       "</style>\n",
       "<table border=\"1\" class=\"dataframe\">\n",
       "  <thead>\n",
       "    <tr style=\"text-align: right;\">\n",
       "      <th></th>\n",
       "      <th>Country name</th>\n",
       "      <th>Regional indicator</th>\n",
       "      <th>Ladder score</th>\n",
       "      <th>Standard error of ladder score</th>\n",
       "      <th>upperwhisker</th>\n",
       "      <th>lowerwhisker</th>\n",
       "      <th>Logged GDP per capita</th>\n",
       "      <th>Social support</th>\n",
       "      <th>Healthy life expectancy</th>\n",
       "      <th>Freedom to make life choices</th>\n",
       "      <th>Generosity</th>\n",
       "      <th>Perceptions of corruption</th>\n",
       "      <th>Ladder score in Dystopia</th>\n",
       "      <th>Explained by: Log GDP per capita</th>\n",
       "      <th>Explained by: Social support</th>\n",
       "      <th>Explained by: Healthy life expectancy</th>\n",
       "      <th>Explained by: Freedom to make life choices</th>\n",
       "      <th>Explained by: Generosity</th>\n",
       "      <th>Explained by: Perceptions of corruption</th>\n",
       "      <th>Dystopia + residual</th>\n",
       "    </tr>\n",
       "  </thead>\n",
       "  <tbody>\n",
       "    <tr>\n",
       "      <th>0</th>\n",
       "      <td>Finland</td>\n",
       "      <td>Western Europe</td>\n",
       "      <td>7.8421</td>\n",
       "      <td>0.0316</td>\n",
       "      <td>7.9041</td>\n",
       "      <td>7.7801</td>\n",
       "      <td>10.7752</td>\n",
       "      <td>0.9536</td>\n",
       "      <td>72.0000</td>\n",
       "      <td>0.9493</td>\n",
       "      <td>-0.0978</td>\n",
       "      <td>0.1858</td>\n",
       "      <td>2.4303</td>\n",
       "      <td>1.4464</td>\n",
       "      <td>1.1062</td>\n",
       "      <td>0.7408</td>\n",
       "      <td>0.6906</td>\n",
       "      <td>0.1242</td>\n",
       "      <td>0.4805</td>\n",
       "      <td>3.2534</td>\n",
       "    </tr>\n",
       "    <tr>\n",
       "      <th>1</th>\n",
       "      <td>Denmark</td>\n",
       "      <td>Western Europe</td>\n",
       "      <td>7.6195</td>\n",
       "      <td>0.0347</td>\n",
       "      <td>7.6874</td>\n",
       "      <td>7.5516</td>\n",
       "      <td>10.9332</td>\n",
       "      <td>0.9544</td>\n",
       "      <td>72.6998</td>\n",
       "      <td>0.9456</td>\n",
       "      <td>0.0301</td>\n",
       "      <td>0.1788</td>\n",
       "      <td>2.4303</td>\n",
       "      <td>1.5015</td>\n",
       "      <td>1.1080</td>\n",
       "      <td>0.7629</td>\n",
       "      <td>0.6862</td>\n",
       "      <td>0.2076</td>\n",
       "      <td>0.4850</td>\n",
       "      <td>2.8683</td>\n",
       "    </tr>\n",
       "    <tr>\n",
       "      <th>2</th>\n",
       "      <td>Switzerland</td>\n",
       "      <td>Western Europe</td>\n",
       "      <td>7.5715</td>\n",
       "      <td>0.0362</td>\n",
       "      <td>7.6425</td>\n",
       "      <td>7.5005</td>\n",
       "      <td>11.1174</td>\n",
       "      <td>0.9417</td>\n",
       "      <td>74.4001</td>\n",
       "      <td>0.9188</td>\n",
       "      <td>0.0246</td>\n",
       "      <td>0.2917</td>\n",
       "      <td>2.4303</td>\n",
       "      <td>1.5659</td>\n",
       "      <td>1.0795</td>\n",
       "      <td>0.8164</td>\n",
       "      <td>0.6535</td>\n",
       "      <td>0.2040</td>\n",
       "      <td>0.4130</td>\n",
       "      <td>2.8391</td>\n",
       "    </tr>\n",
       "  </tbody>\n",
       "</table>\n",
       "</div>"
      ],
      "text/plain": [
       "  Country name Regional indicator  Ladder score  \\\n",
       "0      Finland     Western Europe        7.8421   \n",
       "1      Denmark     Western Europe        7.6195   \n",
       "2  Switzerland     Western Europe        7.5715   \n",
       "\n",
       "   Standard error of ladder score  upperwhisker  lowerwhisker  \\\n",
       "0                          0.0316        7.9041        7.7801   \n",
       "1                          0.0347        7.6874        7.5516   \n",
       "2                          0.0362        7.6425        7.5005   \n",
       "\n",
       "   Logged GDP per capita  Social support  Healthy life expectancy  \\\n",
       "0                10.7752          0.9536                  72.0000   \n",
       "1                10.9332          0.9544                  72.6998   \n",
       "2                11.1174          0.9417                  74.4001   \n",
       "\n",
       "   Freedom to make life choices  Generosity  Perceptions of corruption  \\\n",
       "0                        0.9493     -0.0978                     0.1858   \n",
       "1                        0.9456      0.0301                     0.1788   \n",
       "2                        0.9188      0.0246                     0.2917   \n",
       "\n",
       "   Ladder score in Dystopia  Explained by: Log GDP per capita  \\\n",
       "0                    2.4303                            1.4464   \n",
       "1                    2.4303                            1.5015   \n",
       "2                    2.4303                            1.5659   \n",
       "\n",
       "   Explained by: Social support  Explained by: Healthy life expectancy  \\\n",
       "0                        1.1062                                 0.7408   \n",
       "1                        1.1080                                 0.7629   \n",
       "2                        1.0795                                 0.8164   \n",
       "\n",
       "   Explained by: Freedom to make life choices  Explained by: Generosity  \\\n",
       "0                                      0.6906                    0.1242   \n",
       "1                                      0.6862                    0.2076   \n",
       "2                                      0.6535                    0.2040   \n",
       "\n",
       "   Explained by: Perceptions of corruption  Dystopia + residual  \n",
       "0                                   0.4805               3.2534  \n",
       "1                                   0.4850               2.8683  \n",
       "2                                   0.4130               2.8391  "
      ]
     },
     "execution_count": 5,
     "metadata": {},
     "output_type": "execute_result"
    }
   ],
   "source": [
    "# Let's set the precision to 4 decimal places\n",
    "pd.set_option(\"display.precision\", 4)\n",
    "\n",
    "# The first 3 rows of our pandas DataFrame object. If we run df.head(), it will display the first 5 rows by default.To display the first 3 rows...\n",
    "df.head(3)"
   ]
  },
  {
   "cell_type": "markdown",
   "id": "b6c15359",
   "metadata": {
    "papermill": {
     "duration": 0.009001,
     "end_time": "2024-10-04T03:54:42.001288",
     "exception": false,
     "start_time": "2024-10-04T03:54:41.992287",
     "status": "completed"
    },
    "tags": []
   },
   "source": [
    "Pandas makes it very easy to handle tabular data.\n",
    "\n",
    "Tabular data means that our data fits or belongs in a table. Other types of data can be visual (that is, images, for which it doesn't really make sense to be stored as csv files).\n",
    "\n",
    "The standard way to store tabular data is that:\n",
    "\n",
    "* Each row represents a different observation. \n",
    "* Observation is a fancy Statistics term, but it just means a new data point, a new measurement did by this group of [researchers](https://worldhappiness.report/about/). \n",
    "\n",
    "#### Row and column\n",
    "If our data is about happiness in various countries, each row contains data for a new country. Each column is a different feature (or attribute) of our observations. For the World Happiness Report dataset, examples of features can be the `Country` name, the `Regional indicator` or the `Social Support score`.\n",
    "\n",
    "Now, let's use the `numpy` library to see the maximum value of the feature Ladder score across all observations in our dataset (all countries)."
   ]
  },
  {
   "cell_type": "code",
   "execution_count": 6,
   "id": "175f01c5",
   "metadata": {
    "execution": {
     "iopub.execute_input": "2024-10-04T03:54:42.022421Z",
     "iopub.status.busy": "2024-10-04T03:54:42.021441Z",
     "iopub.status.idle": "2024-10-04T03:54:42.031603Z",
     "shell.execute_reply": "2024-10-04T03:54:42.030501Z"
    },
    "papermill": {
     "duration": 0.023198,
     "end_time": "2024-10-04T03:54:42.033854",
     "exception": false,
     "start_time": "2024-10-04T03:54:42.010656",
     "status": "completed"
    },
    "tags": []
   },
   "outputs": [
    {
     "data": {
      "text/plain": [
       "7.842100143432617"
      ]
     },
     "execution_count": 6,
     "metadata": {},
     "output_type": "execute_result"
    }
   ],
   "source": [
    "# Let's import the numpy library\n",
    "import numpy as np\n",
    "\n",
    "# Use a numpy function to see what's the maximum value for our Ladder score feature\n",
    "np.max(df[\"Ladder score\"])"
   ]
  },
  {
   "cell_type": "markdown",
   "id": "92858e7e",
   "metadata": {
    "papermill": {
     "duration": 0.009353,
     "end_time": "2024-10-04T03:54:42.052841",
     "exception": false,
     "start_time": "2024-10-04T03:54:42.043488",
     "status": "completed"
    },
    "tags": []
   },
   "source": [
    "And since we're here, let's see how convenient it is to use pandas *DataFrame* structure. We found the maximum values for \"Ladder score\" feature, but what is the row number of the entry with the `max()` *Ladder score*?"
   ]
  },
  {
   "cell_type": "code",
   "execution_count": 7,
   "id": "afc91a95",
   "metadata": {
    "execution": {
     "iopub.execute_input": "2024-10-04T03:54:42.074114Z",
     "iopub.status.busy": "2024-10-04T03:54:42.073055Z",
     "iopub.status.idle": "2024-10-04T03:54:42.080861Z",
     "shell.execute_reply": "2024-10-04T03:54:42.079829Z"
    },
    "papermill": {
     "duration": 0.020895,
     "end_time": "2024-10-04T03:54:42.083167",
     "exception": false,
     "start_time": "2024-10-04T03:54:42.062272",
     "status": "completed"
    },
    "tags": []
   },
   "outputs": [
    {
     "data": {
      "text/plain": [
       "0"
      ]
     },
     "execution_count": 7,
     "metadata": {},
     "output_type": "execute_result"
    }
   ],
   "source": [
    "df['Ladder score'].argmax()"
   ]
  },
  {
   "cell_type": "markdown",
   "id": "3b8dfbfe",
   "metadata": {
    "papermill": {
     "duration": 0.009262,
     "end_time": "2024-10-04T03:54:42.102145",
     "exception": false,
     "start_time": "2024-10-04T03:54:42.092883",
     "status": "completed"
    },
    "tags": []
   },
   "source": [
    "It only took one line of code to find the row number. Let's see this observation's features, to convince ourselves we got the right entry. Note that when displaying one single entry from the DataFrame, the feature values won't appear 0 a row anymore, but will be displayed as a column."
   ]
  },
  {
   "cell_type": "code",
   "execution_count": 8,
   "id": "b1acaf5b",
   "metadata": {
    "execution": {
     "iopub.execute_input": "2024-10-04T03:54:42.123426Z",
     "iopub.status.busy": "2024-10-04T03:54:42.122972Z",
     "iopub.status.idle": "2024-10-04T03:54:42.132356Z",
     "shell.execute_reply": "2024-10-04T03:54:42.131270Z"
    },
    "papermill": {
     "duration": 0.022902,
     "end_time": "2024-10-04T03:54:42.134696",
     "exception": false,
     "start_time": "2024-10-04T03:54:42.111794",
     "status": "completed"
    },
    "tags": []
   },
   "outputs": [
    {
     "data": {
      "text/plain": [
       "Country name                                         Finland\n",
       "Regional indicator                            Western Europe\n",
       "Ladder score                                          7.8421\n",
       "Standard error of ladder score                        0.0316\n",
       "upperwhisker                                          7.9041\n",
       "lowerwhisker                                          7.7801\n",
       "Logged GDP per capita                                10.7752\n",
       "Social support                                        0.9536\n",
       "Healthy life expectancy                                 72.0\n",
       "Freedom to make life choices                          0.9493\n",
       "Generosity                                           -0.0978\n",
       "Perceptions of corruption                             0.1858\n",
       "Ladder score in Dystopia                              2.4303\n",
       "Explained by: Log GDP per capita                      1.4464\n",
       "Explained by: Social support                          1.1062\n",
       "Explained by: Healthy life expectancy                 0.7408\n",
       "Explained by: Freedom to make life choices            0.6906\n",
       "Explained by: Generosity                              0.1242\n",
       "Explained by: Perceptions of corruption               0.4805\n",
       "Dystopia + residual                                   3.2534\n",
       "Name: 0, dtype: object"
      ]
     },
     "execution_count": 8,
     "metadata": {},
     "output_type": "execute_result"
    }
   ],
   "source": [
    "df.iloc[df['Ladder score'].argmax()]"
   ]
  },
  {
   "cell_type": "markdown",
   "id": "fd9832ea",
   "metadata": {
    "papermill": {
     "duration": 0.009465,
     "end_time": "2024-10-04T03:54:42.153951",
     "exception": false,
     "start_time": "2024-10-04T03:54:42.144486",
     "status": "completed"
    },
    "tags": []
   },
   "source": [
    "## Data types\n",
    "\n",
    "We have some idea about or features types just by looking at the .csv file. But a better and **systemic** method is the one below."
   ]
  },
  {
   "cell_type": "code",
   "execution_count": 9,
   "id": "35f2200a",
   "metadata": {
    "execution": {
     "iopub.execute_input": "2024-10-04T03:54:42.175711Z",
     "iopub.status.busy": "2024-10-04T03:54:42.174900Z",
     "iopub.status.idle": "2024-10-04T03:54:42.199114Z",
     "shell.execute_reply": "2024-10-04T03:54:42.198093Z"
    },
    "papermill": {
     "duration": 0.038684,
     "end_time": "2024-10-04T03:54:42.202405",
     "exception": false,
     "start_time": "2024-10-04T03:54:42.163721",
     "status": "completed"
    },
    "tags": []
   },
   "outputs": [
    {
     "name": "stdout",
     "output_type": "stream",
     "text": [
      "<class 'pandas.core.frame.DataFrame'>\n",
      "RangeIndex: 149 entries, 0 to 148\n",
      "Data columns (total 20 columns):\n",
      " #   Column                                      Non-Null Count  Dtype  \n",
      "---  ------                                      --------------  -----  \n",
      " 0   Country name                                149 non-null    object \n",
      " 1   Regional indicator                          149 non-null    object \n",
      " 2   Ladder score                                149 non-null    float64\n",
      " 3   Standard error of ladder score              149 non-null    float64\n",
      " 4   upperwhisker                                149 non-null    float64\n",
      " 5   lowerwhisker                                149 non-null    float64\n",
      " 6   Logged GDP per capita                       149 non-null    float64\n",
      " 7   Social support                              149 non-null    float64\n",
      " 8   Healthy life expectancy                     149 non-null    float64\n",
      " 9   Freedom to make life choices                149 non-null    float64\n",
      " 10  Generosity                                  149 non-null    float64\n",
      " 11  Perceptions of corruption                   149 non-null    float64\n",
      " 12  Ladder score in Dystopia                    149 non-null    float64\n",
      " 13  Explained by: Log GDP per capita            149 non-null    float64\n",
      " 14  Explained by: Social support                149 non-null    float64\n",
      " 15  Explained by: Healthy life expectancy       149 non-null    float64\n",
      " 16  Explained by: Freedom to make life choices  149 non-null    float64\n",
      " 17  Explained by: Generosity                    149 non-null    float64\n",
      " 18  Explained by: Perceptions of corruption     149 non-null    float64\n",
      " 19  Dystopia + residual                         149 non-null    float64\n",
      "dtypes: float64(18), object(2)\n",
      "memory usage: 23.4+ KB\n"
     ]
    }
   ],
   "source": [
    "# DataFrame has this very handy method.\n",
    "df.info()"
   ]
  },
  {
   "cell_type": "markdown",
   "id": "7be5bbe1",
   "metadata": {
    "papermill": {
     "duration": 0.009584,
     "end_time": "2024-10-04T03:54:42.221955",
     "exception": false,
     "start_time": "2024-10-04T03:54:42.212371",
     "status": "completed"
    },
    "tags": []
   },
   "source": [
    "What do we see in the output above?\n",
    "\n",
    "* Our data is a DataFrame, with 149 entries (from 0 to 148)\n",
    "* We have 20 columns (from 0 to 19)\n",
    "* All of the columns have 149 non-null values (we don't have **missing** data in any of these columns)\n",
    "* Column types are: object (2 of them) and float64 (18 of them). *float64 means they can store fractional numbers and each number takes 64 bits*\n",
    "\n",
    "* The 'object' type we see above most likely refers to a string. We'll use [DataFrame indexing and selection](https://pandas.pydata.org/pandas-docs/stable/user_guide/indexing.html) to look at one particular value to verify our assumption."
   ]
  },
  {
   "cell_type": "code",
   "execution_count": 11,
   "id": "261ee2e8",
   "metadata": {
    "execution": {
     "iopub.execute_input": "2024-10-04T03:54:42.243815Z",
     "iopub.status.busy": "2024-10-04T03:54:42.243411Z",
     "iopub.status.idle": "2024-10-04T03:54:42.249432Z",
     "shell.execute_reply": "2024-10-04T03:54:42.248311Z"
    },
    "papermill": {
     "duration": 0.019966,
     "end_time": "2024-10-04T03:54:42.251939",
     "exception": false,
     "start_time": "2024-10-04T03:54:42.231973",
     "status": "completed"
    },
    "tags": []
   },
   "outputs": [
    {
     "name": "stdout",
     "output_type": "stream",
     "text": [
      "Finland\n"
     ]
    }
   ],
   "source": [
    "print(df['Country name'][0])"
   ]
  },
  {
   "cell_type": "markdown",
   "id": "b8f16bc6",
   "metadata": {
    "papermill": {
     "duration": 0.010304,
     "end_time": "2024-10-04T03:54:42.272904",
     "exception": false,
     "start_time": "2024-10-04T03:54:42.262600",
     "status": "completed"
    },
    "tags": []
   },
   "source": [
    "Ok, so, in this case, 'object' means String."
   ]
  },
  {
   "cell_type": "markdown",
   "id": "9b6bee41",
   "metadata": {
    "papermill": {
     "duration": 0.009772,
     "end_time": "2024-10-04T03:54:42.292724",
     "exception": false,
     "start_time": "2024-10-04T03:54:42.282952",
     "status": "completed"
    },
    "tags": []
   },
   "source": [
    "## Exploring categorical variable\n",
    "\n",
    "We have 2 feature which contain text:\n",
    "\n",
    "1. Country\n",
    "2. Region\n",
    "\n",
    "### Country\n",
    "Our intuition is that each country is unique in our dataset (one country per row). This is what we would expect from a study of happiness levels in different countries across the world. We can verify this assumption, to make sure we don't have errors in our data. For example, the social scientist running this study could have accidentally entered the same observation twice because she was working late to finish her data analysis."
   ]
  },
  {
   "cell_type": "code",
   "execution_count": 9,
   "id": "1e4cfd60",
   "metadata": {
    "execution": {
     "iopub.execute_input": "2024-10-04T03:54:42.314593Z",
     "iopub.status.busy": "2024-10-04T03:54:42.314185Z",
     "iopub.status.idle": "2024-10-04T03:54:42.324514Z",
     "shell.execute_reply": "2024-10-04T03:54:42.323409Z"
    },
    "papermill": {
     "duration": 0.024286,
     "end_time": "2024-10-04T03:54:42.327027",
     "exception": false,
     "start_time": "2024-10-04T03:54:42.302741",
     "status": "completed"
    },
    "tags": []
   },
   "outputs": [
    {
     "data": {
      "text/plain": [
       "Country name\n",
       "Finland         1\n",
       "North Cyprus    1\n",
       "Switzerland     1\n",
       "Iceland         1\n",
       "Netherlands     1\n",
       "               ..\n",
       "Malawi          1\n",
       "Lesotho         1\n",
       "Botswana        1\n",
       "Rwanda          1\n",
       "Afghanistan     1\n",
       "Name: count, Length: 149, dtype: int64"
      ]
     },
     "execution_count": 9,
     "metadata": {},
     "output_type": "execute_result"
    }
   ],
   "source": [
    "# How many entries we have for each country shown in descending order (highest value first)\n",
    "df[\"Country name\"].value_counts().sort_values(ascending = False)"
   ]
  },
  {
   "cell_type": "code",
   "execution_count": 12,
   "id": "36ff8975",
   "metadata": {
    "execution": {
     "iopub.execute_input": "2024-10-04T03:54:42.349310Z",
     "iopub.status.busy": "2024-10-04T03:54:42.348827Z",
     "iopub.status.idle": "2024-10-04T03:54:42.355494Z",
     "shell.execute_reply": "2024-10-04T03:54:42.354552Z"
    },
    "papermill": {
     "duration": 0.021228,
     "end_time": "2024-10-04T03:54:42.358398",
     "exception": false,
     "start_time": "2024-10-04T03:54:42.337170",
     "status": "completed"
    },
    "tags": []
   },
   "outputs": [
    {
     "name": "stdout",
     "output_type": "stream",
     "text": [
      "\n",
      "The code above returns a date of type:  <class 'pandas.core.series.Series'>\n"
     ]
    }
   ],
   "source": [
    "# Uncomment the line below to see what data type we used. This is a nice way to explore the functioning of pandas.\n",
    "print(\"\\nThe code above returns a date of type: \", type(df['Country name'].value_counts()))"
   ]
  },
  {
   "cell_type": "markdown",
   "id": "73b3f837",
   "metadata": {
    "papermill": {
     "duration": 0.01007,
     "end_time": "2024-10-04T03:54:42.378875",
     "exception": false,
     "start_time": "2024-10-04T03:54:42.368805",
     "status": "completed"
    },
    "tags": []
   },
   "source": [
    "### Region\n",
    "Let's have a look at the regions now. It would be interesting to see what different regions we have. This would open the door for questions like: *Are people happier in Western Europen than in Eastern Europe?*. We don't know yet what question we can ask and exploring our data informs our next steps.\n",
    "\n",
    "By the way, since we are dealing with long column names, it's worth mentioning that we don't have to type the whole column name. I just input the first 3 letters and press Tab for autocomplete.\n",
    "\n",
    "We see in the output below that:\n",
    "\n",
    "* Europe is split into 2: **Western Europe** and **Central and Eastern Europe**\n",
    "* The Americas are divided into 2: **Latin America and Caribbean** and **North America and ANZ** (which is North America, Australia and New Zealand)\n",
    "* Africa is split into 2: **Sub-Saharan Africa** and **Middle East and North Africa**\n",
    "* Asia is divided into 3: **Southeast Asia**, **South Asia** and **East Asia**\n",
    "* There is a group of post-Soviet republics in Eurasia making up the **Commonwealth of Independent States**"
   ]
  },
  {
   "cell_type": "code",
   "execution_count": 13,
   "id": "df17e9b6",
   "metadata": {
    "execution": {
     "iopub.execute_input": "2024-10-04T03:54:42.402241Z",
     "iopub.status.busy": "2024-10-04T03:54:42.401792Z",
     "iopub.status.idle": "2024-10-04T03:54:42.410641Z",
     "shell.execute_reply": "2024-10-04T03:54:42.409563Z"
    },
    "papermill": {
     "duration": 0.023764,
     "end_time": "2024-10-04T03:54:42.413585",
     "exception": false,
     "start_time": "2024-10-04T03:54:42.389821",
     "status": "completed"
    },
    "tags": []
   },
   "outputs": [
    {
     "data": {
      "text/plain": [
       "Regional indicator\n",
       "Sub-Saharan Africa                    36\n",
       "Western Europe                        21\n",
       "Latin America and Caribbean           20\n",
       "Middle East and North Africa          17\n",
       "Central and Eastern Europe            17\n",
       "Commonwealth of Independent States    12\n",
       "Southeast Asia                         9\n",
       "South Asia                             7\n",
       "East Asia                              6\n",
       "North America and ANZ                  4\n",
       "Name: count, dtype: int64"
      ]
     },
     "execution_count": 13,
     "metadata": {},
     "output_type": "execute_result"
    }
   ],
   "source": [
    "# Here's each individual region and its corresponding frequency (the statistical term for the number of times this region appears in our dataset)\n",
    "\n",
    "df['Regional indicator'].value_counts()"
   ]
  },
  {
   "cell_type": "code",
   "execution_count": 14,
   "id": "d930a092",
   "metadata": {
    "execution": {
     "iopub.execute_input": "2024-10-04T03:54:42.436195Z",
     "iopub.status.busy": "2024-10-04T03:54:42.435736Z",
     "iopub.status.idle": "2024-10-04T03:54:42.442405Z",
     "shell.execute_reply": "2024-10-04T03:54:42.441187Z"
    },
    "papermill": {
     "duration": 0.020729,
     "end_time": "2024-10-04T03:54:42.444730",
     "exception": false,
     "start_time": "2024-10-04T03:54:42.424001",
     "status": "completed"
    },
    "tags": []
   },
   "outputs": [
    {
     "name": "stdout",
     "output_type": "stream",
     "text": [
      "The number of regions in our dataset is: 10\n"
     ]
    }
   ],
   "source": [
    "# Method to find this out total number of regions in our dataset\n",
    "print(f\"The number of regions in our dataset is: {df['Regional indicator'].nunique()}\")"
   ]
  },
  {
   "cell_type": "markdown",
   "id": "7dc4ed33",
   "metadata": {
    "papermill": {
     "duration": 0.010233,
     "end_time": "2024-10-04T03:54:42.465690",
     "exception": false,
     "start_time": "2024-10-04T03:54:42.455457",
     "status": "completed"
    },
    "tags": []
   },
   "source": [
    "The above line of code uses Python's fancy formatting called *Literal String Interpolation* (but the popular name is f-string). You can read more [here](https://www.programiz.com/python-programming/string-interpolation).\n",
    "\n",
    "### Visualisation for categorical features\n",
    "Since the frequencies (the number of times they appear in our dataset) of our regions is greater than one, it invites us to look at them in a more intuitive way rather than the text displayed above.\n",
    "\n",
    "It is generally much better for the audience to present any data in visual form, whenever possible. For countries, nothing else made sense since each country appeared once in our data. But for regions, we can use a bar chart.\n",
    "\n",
    "The bar chart below shows the same information as the table we've seen earlier.\n",
    "But in visual form it's so much easier to gain insights like **Sub-Saharan Africa** is present in our dataset approximately twice as much as the next region in line, **Western Europe**."
   ]
  },
  {
   "cell_type": "code",
   "execution_count": 15,
   "id": "650f6b0e",
   "metadata": {
    "execution": {
     "iopub.execute_input": "2024-10-04T03:54:42.488474Z",
     "iopub.status.busy": "2024-10-04T03:54:42.488030Z",
     "iopub.status.idle": "2024-10-04T03:54:42.943506Z",
     "shell.execute_reply": "2024-10-04T03:54:42.942523Z"
    },
    "papermill": {
     "duration": 0.470328,
     "end_time": "2024-10-04T03:54:42.946535",
     "exception": false,
     "start_time": "2024-10-04T03:54:42.476207",
     "status": "completed"
    },
    "tags": []
   },
   "outputs": [
    {
     "data": {
      "text/plain": [
       "<Axes: title={'center': 'Absolute frequency distribution of Regional indicator'}, xlabel='Regional indicator'>"
      ]
     },
     "execution_count": 15,
     "metadata": {},
     "output_type": "execute_result"
    },
    {
     "data": {
      "image/png": "[encoded data removed]",
      "text/plain": [
       "<Figure size 640x480 with 1 Axes>"
      ]
     },
     "metadata": {},
     "output_type": "display_data"
    }
   ],
   "source": [
    "df['Regional indicator'].value_counts().plot(kind='bar', title='Absolute frequency distribution of Regional indicator')"
   ]
  },
  {
   "cell_type": "markdown",
   "id": "b661274b",
   "metadata": {
    "papermill": {
     "duration": 0.011119,
     "end_time": "2024-10-04T03:54:42.969829",
     "exception": false,
     "start_time": "2024-10-04T03:54:42.958710",
     "status": "completed"
    },
    "tags": []
   },
   "source": [
    "Another obsvervation for the plot above is that those numbers are absolute frequencies. That is, the bar chart shows the number of times each region is present in our dataset. Sometimes it's enough to know that we have 39 countries from **Sub-Saharan Africa**. But there are times when we're wondering how much this represents in terms of percentage."
   ]
  },
  {
   "cell_type": "code",
   "execution_count": 16,
   "id": "8b99f9b9",
   "metadata": {
    "execution": {
     "iopub.execute_input": "2024-10-04T03:54:42.994633Z",
     "iopub.status.busy": "2024-10-04T03:54:42.994203Z",
     "iopub.status.idle": "2024-10-04T03:54:43.379987Z",
     "shell.execute_reply": "2024-10-04T03:54:43.378886Z"
    },
    "papermill": {
     "duration": 0.401134,
     "end_time": "2024-10-04T03:54:43.382418",
     "exception": false,
     "start_time": "2024-10-04T03:54:42.981284",
     "status": "completed"
    },
    "tags": []
   },
   "outputs": [
    {
     "data": {
      "text/plain": [
       "<Axes: title={'center': 'Relative frequency of Regional indicators'}, xlabel='Regional indicator'>"
      ]
     },
     "execution_count": 16,
     "metadata": {},
     "output_type": "execute_result"
    },
    {
     "data": {
      "image/png": "[encoded data removed]",
      "text/plain": [
       "<Figure size 640x480 with 1 Axes>"
      ]
     },
     "metadata": {},
     "output_type": "display_data"
    }
   ],
   "source": [
    "(df['Regional indicator'].value_counts()/df.shape[0]).plot(kind='bar', title='Relative frequency of Regional indicators')"
   ]
  },
  {
   "cell_type": "markdown",
   "id": "4c85aa28",
   "metadata": {
    "papermill": {
     "duration": 0.012491,
     "end_time": "2024-10-04T03:54:43.407928",
     "exception": false,
     "start_time": "2024-10-04T03:54:43.395437",
     "status": "completed"
    },
    "tags": []
   },
   "source": [
    "Now we know that **Sub-Saharan Africa** represents 25% of our data. \n",
    "\n",
    "For this dataset this is not unusual. But imagine if you're trying to see how happy people are in a single country, you broadcast a digital survey that people can take and during data analysis you realise that 25% of the people who filled in the survey are from the same city in this country.\n",
    "\n",
    "So how do we go about this?"
   ]
  },
  {
   "cell_type": "code",
   "execution_count": null,
   "id": "bebee1ea",
   "metadata": {
    "papermill": {
     "duration": 0.012317,
     "end_time": "2024-10-04T03:54:43.433218",
     "exception": false,
     "start_time": "2024-10-04T03:54:43.420901",
     "status": "completed"
    },
    "tags": []
   },
   "outputs": [],
   "source": []
  }
 ],
 "metadata": {
  "kaggle": {
   "accelerator": "none",
   "dataSources": [
    {
     "datasetId": 5802641,
     "sourceId": 9528663,
     "sourceType": "datasetVersion"
    },
    {
     "datasetId": 5802701,
     "sourceId": 9528742,
     "sourceType": "datasetVersion"
    }
   ],
   "dockerImageVersionId": 30775,
   "isGpuEnabled": false,
   "isInternetEnabled": true,
   "language": "python",
   "sourceType": "notebook"
  },
  "kernelspec": {
   "display_name": "Python 3",
   "language": "python",
   "name": "python3"
  },
  "language_info": {
   "codemirror_mode": {
    "name": "ipython",
    "version": 3
   },
   "file_extension": ".py",
   "mimetype": "text/x-python",
   "name": "python",
   "nbconvert_exporter": "python",
   "pygments_lexer": "ipython3",
   "version": "3.11.9"
  },
  "papermill": {
   "default_parameters": {},
   "duration": 21.97505,
   "end_time": "2024-10-04T03:54:43.966920",
   "environment_variables": {},
   "exception": null,
   "input_path": "__notebook__.ipynb",
   "output_path": "__notebook__.ipynb",
   "parameters": {},
   "start_time": "2024-10-04T03:54:21.991870",
   "version": "2.6.0"
  }
 },
 "nbformat": 4,
 "nbformat_minor": 5
}
