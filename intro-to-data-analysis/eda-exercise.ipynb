{
 "cells": [
  {
   "cell_type": "markdown",
   "metadata": {},
   "source": [
    "# Exercise: Exploratory Data Analysis\n",
    "\n",
    "In this exercise, we will use measurements of air quality from [Buccleauch](https://en.wikipedia.org/wiki/Buccleuch,_Gauteng) municipality of Johannesburg, South Africa as our dataset. Specifically, we are focusing on data recorded between 2010 and 2014.\n",
    "\n",
    "The dataset is provided by [University of Capetown](https://zivahub.uct.ac.za/articles/dataset/Johannesburg_Air_Quality_Data/7246784/1) data repository. For your convenience, the dataset has been downloaded to the **datasets** folder in CSV format under the name `buccleuch-2010-2014.csv`."
   ]
  },
  {
   "cell_type": "markdown",
   "metadata": {},
   "source": [
    "## Task 1: Load dataset and inspect its structure\n",
    "\n",
    "**1.** Load the dataset to variable `df` "
   ]
  },
  {
   "cell_type": "code",
   "execution_count": 1,
   "metadata": {},
   "outputs": [],
   "source": []
  },
  {
   "cell_type": "markdown",
   "metadata": {},
   "source": [
    "**2.** View the structure such as size of the dataset or data type."
   ]
  },
  {
   "cell_type": "code",
   "execution_count": null,
   "metadata": {},
   "outputs": [],
   "source": []
  },
  {
   "cell_type": "markdown",
   "metadata": {},
   "source": [
    "**3.** Get a a quick glimpse of the data structure and the contents of `df`"
   ]
  },
  {
   "cell_type": "code",
   "execution_count": null,
   "metadata": {},
   "outputs": [],
   "source": []
  },
  {
   "cell_type": "markdown",
   "metadata": {},
   "source": [
    "**5.** Display the last five rows of `df`"
   ]
  },
  {
   "cell_type": "code",
   "execution_count": null,
   "metadata": {},
   "outputs": [],
   "source": []
  },
  {
   "cell_type": "markdown",
   "metadata": {},
   "source": [
    "## Task 2: Explore features\n",
    "\n",
    "### Multivariate\n",
    "\n",
    "The given dataset is multivariate -- each column represent different kinds of data. Some of the column names are self-explanatory, while others may require additional context. Here is a brief explanation:\n",
    "\n",
    "* `LogDate` represents the date and time when each entry was recorded.\n",
    "* `NO`, `NO2`, and `NOX` refer to the levels of nitrogen oxide, nitrogen dioxide, and combined forms of nitrogen oxides, respectively.\n",
    "* `O3` denotes the levels of ozone.\n",
    "* `PM10` and `PM2.5` refer to the levels of particulate matter in the air with an aerodynamic diameter of less than 10μm and 2.5μm, respectively.\n",
    "* `SO2` represents the levels of sulfur dioxide.\n",
    "* `WIND` and `WINDS` stand for the direction and speed of the wind, respectively."
   ]
  },
  {
   "cell_type": "markdown",
   "metadata": {},
   "source": [
    "**6.** Display the brief statistical summary to understand the distribution of values in `df`."
   ]
  },
  {
   "cell_type": "code",
   "execution_count": null,
   "metadata": {},
   "outputs": [],
   "source": []
  },
  {
   "cell_type": "markdown",
   "metadata": {},
   "source": [
    "**7.** What can you tell from the statistics?"
   ]
  },
  {
   "cell_type": "markdown",
   "metadata": {},
   "source": [
    "**Answer** "
   ]
  },
  {
   "cell_type": "markdown",
   "metadata": {},
   "source": [
    "### Identifying missing values\n",
    "\n",
    "Based on your inspection, some pre-processing or *cleaning* is needed to ensure `NaN` (sometimes referred as `Null` or `None`) which indicates missing values, are removed from the dataset.\n",
    "\n",
    "**8.** Label `NaN` values as `True` and `False` in `df`"
   ]
  },
  {
   "cell_type": "code",
   "execution_count": null,
   "metadata": {},
   "outputs": [],
   "source": []
  },
  {
   "cell_type": "markdown",
   "metadata": {},
   "source": [
    "**9.** Drop rows with `NaN` value(s) and copy this new dataframe to `df_clean`."
   ]
  },
  {
   "cell_type": "code",
   "execution_count": null,
   "metadata": {},
   "outputs": [],
   "source": []
  },
  {
   "cell_type": "markdown",
   "metadata": {},
   "source": [
    "**10.** Compare the sizes of `df` and `df_clean`. How much has the size been reduced?"
   ]
  },
  {
   "cell_type": "code",
   "execution_count": null,
   "metadata": {},
   "outputs": [],
   "source": []
  },
  {
   "cell_type": "markdown",
   "metadata": {},
   "source": [
    "**11.** Show the distribution of all sensor measurements."
   ]
  },
  {
   "cell_type": "code",
   "execution_count": null,
   "metadata": {},
   "outputs": [],
   "source": []
  },
  {
   "cell_type": "markdown",
   "metadata": {},
   "source": [
    "**12.** What are the insights from the plots above (**Question 11**)?"
   ]
  },
  {
   "cell_type": "markdown",
   "metadata": {},
   "source": [
    "**Answer**: "
   ]
  },
  {
   "cell_type": "markdown",
   "metadata": {},
   "source": [
    "**13.** Perform bivariate analysis to inspect relationship between variables."
   ]
  },
  {
   "cell_type": "code",
   "execution_count": null,
   "metadata": {},
   "outputs": [],
   "source": []
  },
  {
   "cell_type": "markdown",
   "metadata": {},
   "source": [
    "**14.** What can be interpreted from the plots above?"
   ]
  },
  {
   "cell_type": "markdown",
   "metadata": {},
   "source": [
    "**Answer**"
   ]
  },
  {
   "cell_type": "markdown",
   "metadata": {},
   "source": [
    "**15.** Investigate the correlation of these variables."
   ]
  },
  {
   "cell_type": "code",
   "execution_count": null,
   "metadata": {},
   "outputs": [],
   "source": []
  },
  {
   "cell_type": "markdown",
   "metadata": {},
   "source": [
    "**16.** Plots in **Question 11** suggest that there some outliers in the distribution. Show this outliers using Box and Whisker plots."
   ]
  },
  {
   "cell_type": "code",
   "execution_count": null,
   "metadata": {},
   "outputs": [],
   "source": []
  },
  {
   "cell_type": "markdown",
   "metadata": {},
   "source": [
    "**17.** What can be observed from the box plots for all measurements?"
   ]
  },
  {
   "cell_type": "markdown",
   "metadata": {},
   "source": []
  }
 ],
 "metadata": {
  "kernelspec": {
   "display_name": "work",
   "language": "python",
   "name": "python3"
  },
  "language_info": {
   "codemirror_mode": {
    "name": "ipython",
    "version": 3
   },
   "file_extension": ".py",
   "mimetype": "text/x-python",
   "name": "python",
   "nbconvert_exporter": "python",
   "pygments_lexer": "ipython3",
   "version": "3.11.9"
  }
 },
 "nbformat": 4,
 "nbformat_minor": 2
}
