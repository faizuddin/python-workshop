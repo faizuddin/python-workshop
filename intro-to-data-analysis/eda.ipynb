{
 "cells": [
  {
   "cell_type": "markdown",
   "metadata": {},
   "source": [
    "# Exploratory Data Analysis\n",
    "\n",
    "We will begin by importing our dataset. The dataset we are using includes measurements of air quality from Buccleauch municipality of Johannesburg, South Africa. Specifically, we are focusing on data recorded between 2010 and 2014.\n",
    "\n",
    "The dataset we are using is provided by [University of Capetown](https://zivahub.uct.ac.za/articles/dataset/Johannesburg_Air_Quality_Data/7246784/1) data repository. Alternatively you can download it from the workshop's repository here."
   ]
  },
  {
   "cell_type": "markdown",
   "metadata": {},
   "source": []
  }
 ],
 "metadata": {
  "kernelspec": {
   "display_name": "Python 3",
   "language": "python",
   "name": "python3"
  },
  "language_info": {
   "name": "python",
   "version": "3.10.13"
  }
 },
 "nbformat": 4,
 "nbformat_minor": 2
}
