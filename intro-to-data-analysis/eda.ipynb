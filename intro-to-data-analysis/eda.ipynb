{
 "cells": [
  {
   "cell_type": "markdown",
   "metadata": {},
   "source": [
    "# Exploratory Data Analysis\n",
    "\n",
    "We will begin by importing our dataset. The dataset we are using includes measurements of air quality from Buccleauch municipality of Johannesburg, South Africa. Specifically, we are focusing on data recorded between 2010 and 2014.\n",
    "\n",
    "The dataset we are using is provided by [University of Capetown](https://zivahub.uct.ac.za/articles/dataset/Johannesburg_Air_Quality_Data/7246784/1) data repository. Alternatively you can download it from the workshop's repository here."
   ]
  },
  {
   "cell_type": "markdown",
   "metadata": {},
   "source": [
    "## Reading Data\n",
    "\n",
    "We use the variable name `df` to refer to a *DataFrame*. A *DataFrame* can be considered as a table comprised of columns (which hold the headings) and rows (which contain the data). It is similar to working with an Excel spreadsheet."
   ]
  },
  {
   "cell_type": "code",
   "execution_count": 1,
   "metadata": {},
   "outputs": [],
   "source": [
    "import pandas as pd\n",
    "df = pd.read_csv(\"dataset/buccleuch-2010-2014.csv\")"
   ]
  },
  {
   "cell_type": "markdown",
   "metadata": {},
   "source": [
    "To view the structure such as size of the dataset or data type, we can use `.info()` function."
   ]
  },
  {
   "cell_type": "code",
   "execution_count": 2,
   "metadata": {},
   "outputs": [
    {
     "name": "stdout",
     "output_type": "stream",
     "text": [
      "<class 'pandas.core.frame.DataFrame'>\n",
      "RangeIndex: 14650 entries, 0 to 14649\n",
      "Data columns (total 10 columns):\n",
      " #   Column   Non-Null Count  Dtype  \n",
      "---  ------   --------------  -----  \n",
      " 0   LogDate  14650 non-null  object \n",
      " 1   NO       8775 non-null   float64\n",
      " 2   NO2      6681 non-null   float64\n",
      " 3   NOX      8881 non-null   float64\n",
      " 4   O3       4698 non-null   float64\n",
      " 5   PM10     12331 non-null  float64\n",
      " 6   PM2.5    6650 non-null   float64\n",
      " 7   SO2      4311 non-null   float64\n",
      " 8   WIND     7749 non-null   float64\n",
      " 9   WINDS    7749 non-null   float64\n",
      "dtypes: float64(9), object(1)\n",
      "memory usage: 1.1+ MB\n"
     ]
    }
   ],
   "source": [
    "df.info()"
   ]
  },
  {
   "cell_type": "markdown",
   "metadata": {},
   "source": [
    "To display the first five rows of the *DataFrame*, we can use the `.head()` function. This method is useful for getting a quick glimpse of the data structure and contents in *DataFrame*."
   ]
  },
  {
   "cell_type": "code",
   "execution_count": 3,
   "metadata": {},
   "outputs": [
    {
     "data": {
      "text/html": [
       "<div>\n",
       "<style scoped>\n",
       "    .dataframe tbody tr th:only-of-type {\n",
       "        vertical-align: middle;\n",
       "    }\n",
       "\n",
       "    .dataframe tbody tr th {\n",
       "        vertical-align: top;\n",
       "    }\n",
       "\n",
       "    .dataframe thead th {\n",
       "        text-align: right;\n",
       "    }\n",
       "</style>\n",
       "<table border=\"1\" class=\"dataframe\">\n",
       "  <thead>\n",
       "    <tr style=\"text-align: right;\">\n",
       "      <th></th>\n",
       "      <th>LogDate</th>\n",
       "      <th>NO</th>\n",
       "      <th>NO2</th>\n",
       "      <th>NOX</th>\n",
       "      <th>O3</th>\n",
       "      <th>PM10</th>\n",
       "      <th>PM2.5</th>\n",
       "      <th>SO2</th>\n",
       "      <th>WIND</th>\n",
       "      <th>WINDS</th>\n",
       "    </tr>\n",
       "  </thead>\n",
       "  <tbody>\n",
       "    <tr>\n",
       "      <th>0</th>\n",
       "      <td>9/1/2010 12:00:00 AM</td>\n",
       "      <td>NaN</td>\n",
       "      <td>NaN</td>\n",
       "      <td>NaN</td>\n",
       "      <td>NaN</td>\n",
       "      <td>NaN</td>\n",
       "      <td>NaN</td>\n",
       "      <td>NaN</td>\n",
       "      <td>NaN</td>\n",
       "      <td>NaN</td>\n",
       "    </tr>\n",
       "    <tr>\n",
       "      <th>1</th>\n",
       "      <td>9/1/2010 2:00:00 AM</td>\n",
       "      <td>105.181818</td>\n",
       "      <td>33.181818</td>\n",
       "      <td>140.909091</td>\n",
       "      <td>NaN</td>\n",
       "      <td>84.454545</td>\n",
       "      <td>50.818182</td>\n",
       "      <td>6.090909</td>\n",
       "      <td>150.092361</td>\n",
       "      <td>0.972727</td>\n",
       "    </tr>\n",
       "    <tr>\n",
       "      <th>2</th>\n",
       "      <td>9/1/2010 3:00:00 AM</td>\n",
       "      <td>84.909091</td>\n",
       "      <td>31.636364</td>\n",
       "      <td>119.636364</td>\n",
       "      <td>NaN</td>\n",
       "      <td>81.181818</td>\n",
       "      <td>51.090909</td>\n",
       "      <td>5.000000</td>\n",
       "      <td>147.804834</td>\n",
       "      <td>0.981818</td>\n",
       "    </tr>\n",
       "    <tr>\n",
       "      <th>3</th>\n",
       "      <td>9/1/2010 4:00:00 AM</td>\n",
       "      <td>79.181818</td>\n",
       "      <td>28.545455</td>\n",
       "      <td>110.636364</td>\n",
       "      <td>NaN</td>\n",
       "      <td>60.272727</td>\n",
       "      <td>39.727273</td>\n",
       "      <td>4.090909</td>\n",
       "      <td>155.345099</td>\n",
       "      <td>0.863636</td>\n",
       "    </tr>\n",
       "    <tr>\n",
       "      <th>4</th>\n",
       "      <td>9/1/2010 5:00:00 AM</td>\n",
       "      <td>207.090909</td>\n",
       "      <td>22.545455</td>\n",
       "      <td>232.545455</td>\n",
       "      <td>NaN</td>\n",
       "      <td>55.272727</td>\n",
       "      <td>35.636364</td>\n",
       "      <td>7.272727</td>\n",
       "      <td>141.959703</td>\n",
       "      <td>0.854545</td>\n",
       "    </tr>\n",
       "  </tbody>\n",
       "</table>\n",
       "</div>"
      ],
      "text/plain": [
       "                LogDate          NO        NO2         NOX  O3       PM10  \\\n",
       "0  9/1/2010 12:00:00 AM         NaN        NaN         NaN NaN        NaN   \n",
       "1   9/1/2010 2:00:00 AM  105.181818  33.181818  140.909091 NaN  84.454545   \n",
       "2   9/1/2010 3:00:00 AM   84.909091  31.636364  119.636364 NaN  81.181818   \n",
       "3   9/1/2010 4:00:00 AM   79.181818  28.545455  110.636364 NaN  60.272727   \n",
       "4   9/1/2010 5:00:00 AM  207.090909  22.545455  232.545455 NaN  55.272727   \n",
       "\n",
       "       PM2.5       SO2        WIND     WINDS  \n",
       "0        NaN       NaN         NaN       NaN  \n",
       "1  50.818182  6.090909  150.092361  0.972727  \n",
       "2  51.090909  5.000000  147.804834  0.981818  \n",
       "3  39.727273  4.090909  155.345099  0.863636  \n",
       "4  35.636364  7.272727  141.959703  0.854545  "
      ]
     },
     "execution_count": 3,
     "metadata": {},
     "output_type": "execute_result"
    }
   ],
   "source": [
    "df.head()"
   ]
  },
  {
   "cell_type": "markdown",
   "metadata": {},
   "source": [
    "### Multivariate\n",
    "\n",
    "As evident from the given dataset, it is multivariate and consists of several columns that represent different kinds of data. Some of the column names are self-explanatory, while others may require additional context. Here is a brief explanation:\n",
    "\n",
    "* `LogDate` represents the date and time when each entry was recorded.\n",
    "* `NO`, `NO2`, and `NOX` refer to the levels of nitrogen oxide, nitrogen dioxide, and combined forms of nitrogen oxides, respectively.\n",
    "* `O3` denotes the levels of ozone.\n",
    "* `PM10` and `PM2.5` refer to the levels of particulate matter in the air with an aerodynamic diameter of less than 10μm and 2.5μm, respectively.\n",
    "* `SO2` represents the levels of sulfur dioxide.\n",
    "* `WIND` and `WINDS` stand for the direction and speed of the wind, respectively."
   ]
  },
  {
   "cell_type": "markdown",
   "metadata": {},
   "source": [
    "### NaN\n",
    "\n",
    "`NaN` indicates missing values, which are sometimes referred to as `Null` or `None`."
   ]
  },
  {
   "cell_type": "markdown",
   "metadata": {},
   "source": [
    "## Descriptive Statistics\n",
    "The `describe` function in Pandas is a versatile tool that offers various descriptive statistics. This function returns the count of non-empty rows, the mean value for each column, and a five-number summary, presenting the minimum value, 25th percentile, median (50th percentile), 75th percentile, and the maximum value for each respective column. \n",
    "\n",
    "This brief statistical summary can provide a better understanding of the distribution of values in the dataset."
   ]
  },
  {
   "cell_type": "code",
   "execution_count": 4,
   "metadata": {},
   "outputs": [
    {
     "data": {
      "text/html": [
       "<div>\n",
       "<style scoped>\n",
       "    .dataframe tbody tr th:only-of-type {\n",
       "        vertical-align: middle;\n",
       "    }\n",
       "\n",
       "    .dataframe tbody tr th {\n",
       "        vertical-align: top;\n",
       "    }\n",
       "\n",
       "    .dataframe thead th {\n",
       "        text-align: right;\n",
       "    }\n",
       "</style>\n",
       "<table border=\"1\" class=\"dataframe\">\n",
       "  <thead>\n",
       "    <tr style=\"text-align: right;\">\n",
       "      <th></th>\n",
       "      <th>NO</th>\n",
       "      <th>NO2</th>\n",
       "      <th>NOX</th>\n",
       "      <th>O3</th>\n",
       "      <th>PM10</th>\n",
       "      <th>PM2.5</th>\n",
       "      <th>SO2</th>\n",
       "      <th>WIND</th>\n",
       "      <th>WINDS</th>\n",
       "    </tr>\n",
       "  </thead>\n",
       "  <tbody>\n",
       "    <tr>\n",
       "      <th>count</th>\n",
       "      <td>8775.000000</td>\n",
       "      <td>6681.000000</td>\n",
       "      <td>8881.000000</td>\n",
       "      <td>4698.000000</td>\n",
       "      <td>12331.000000</td>\n",
       "      <td>6650.000000</td>\n",
       "      <td>4311.000000</td>\n",
       "      <td>7749.000000</td>\n",
       "      <td>7749.000000</td>\n",
       "    </tr>\n",
       "    <tr>\n",
       "      <th>mean</th>\n",
       "      <td>79.902242</td>\n",
       "      <td>28.116054</td>\n",
       "      <td>93.882540</td>\n",
       "      <td>8.843053</td>\n",
       "      <td>51.769043</td>\n",
       "      <td>42.125373</td>\n",
       "      <td>12.232701</td>\n",
       "      <td>177.237919</td>\n",
       "      <td>1.440963</td>\n",
       "    </tr>\n",
       "    <tr>\n",
       "      <th>std</th>\n",
       "      <td>104.295170</td>\n",
       "      <td>81.720432</td>\n",
       "      <td>118.168232</td>\n",
       "      <td>9.643190</td>\n",
       "      <td>42.675023</td>\n",
       "      <td>33.232319</td>\n",
       "      <td>48.272566</td>\n",
       "      <td>95.921596</td>\n",
       "      <td>1.054109</td>\n",
       "    </tr>\n",
       "    <tr>\n",
       "      <th>min</th>\n",
       "      <td>0.000000</td>\n",
       "      <td>0.000000</td>\n",
       "      <td>0.000000</td>\n",
       "      <td>0.000000</td>\n",
       "      <td>0.000000</td>\n",
       "      <td>0.000000</td>\n",
       "      <td>0.000000</td>\n",
       "      <td>0.039194</td>\n",
       "      <td>0.000000</td>\n",
       "    </tr>\n",
       "    <tr>\n",
       "      <th>25%</th>\n",
       "      <td>9.166667</td>\n",
       "      <td>1.333333</td>\n",
       "      <td>11.818182</td>\n",
       "      <td>2.965909</td>\n",
       "      <td>23.500000</td>\n",
       "      <td>19.727273</td>\n",
       "      <td>3.590909</td>\n",
       "      <td>104.934490</td>\n",
       "      <td>0.681818</td>\n",
       "    </tr>\n",
       "    <tr>\n",
       "      <th>50%</th>\n",
       "      <td>45.583333</td>\n",
       "      <td>2.800000</td>\n",
       "      <td>53.500000</td>\n",
       "      <td>6.213636</td>\n",
       "      <td>41.250000</td>\n",
       "      <td>35.454545</td>\n",
       "      <td>7.363636</td>\n",
       "      <td>150.365682</td>\n",
       "      <td>1.181818</td>\n",
       "    </tr>\n",
       "    <tr>\n",
       "      <th>75%</th>\n",
       "      <td>102.458333</td>\n",
       "      <td>7.000000</td>\n",
       "      <td>121.363636</td>\n",
       "      <td>10.663636</td>\n",
       "      <td>68.500000</td>\n",
       "      <td>56.636364</td>\n",
       "      <td>9.727273</td>\n",
       "      <td>276.646539</td>\n",
       "      <td>1.981818</td>\n",
       "    </tr>\n",
       "    <tr>\n",
       "      <th>max</th>\n",
       "      <td>892.000000</td>\n",
       "      <td>756.181818</td>\n",
       "      <td>907.454545</td>\n",
       "      <td>97.127273</td>\n",
       "      <td>716.636364</td>\n",
       "      <td>519.272727</td>\n",
       "      <td>492.583333</td>\n",
       "      <td>359.909088</td>\n",
       "      <td>9.145455</td>\n",
       "    </tr>\n",
       "  </tbody>\n",
       "</table>\n",
       "</div>"
      ],
      "text/plain": [
       "                NO          NO2          NOX           O3          PM10  \\\n",
       "count  8775.000000  6681.000000  8881.000000  4698.000000  12331.000000   \n",
       "mean     79.902242    28.116054    93.882540     8.843053     51.769043   \n",
       "std     104.295170    81.720432   118.168232     9.643190     42.675023   \n",
       "min       0.000000     0.000000     0.000000     0.000000      0.000000   \n",
       "25%       9.166667     1.333333    11.818182     2.965909     23.500000   \n",
       "50%      45.583333     2.800000    53.500000     6.213636     41.250000   \n",
       "75%     102.458333     7.000000   121.363636    10.663636     68.500000   \n",
       "max     892.000000   756.181818   907.454545    97.127273    716.636364   \n",
       "\n",
       "             PM2.5          SO2         WIND        WINDS  \n",
       "count  6650.000000  4311.000000  7749.000000  7749.000000  \n",
       "mean     42.125373    12.232701   177.237919     1.440963  \n",
       "std      33.232319    48.272566    95.921596     1.054109  \n",
       "min       0.000000     0.000000     0.039194     0.000000  \n",
       "25%      19.727273     3.590909   104.934490     0.681818  \n",
       "50%      35.454545     7.363636   150.365682     1.181818  \n",
       "75%      56.636364     9.727273   276.646539     1.981818  \n",
       "max     519.272727   492.583333   359.909088     9.145455  "
      ]
     },
     "execution_count": 4,
     "metadata": {},
     "output_type": "execute_result"
    }
   ],
   "source": [
    "df.describe()"
   ]
  },
  {
   "cell_type": "markdown",
   "metadata": {},
   "source": [
    "Note how nearly every column in our *DataFrame* has a minimum value of 0. This may appear unusual, given that it is unlikely for these real-world sensors to register readings of 0. In typical machine learning projects, you would usually consult with an industry expert to help identify such anomalies.\n"
   ]
  },
  {
   "cell_type": "markdown",
   "metadata": {},
   "source": [
    "## Identifying Missing Values"
   ]
  },
  {
   "cell_type": "markdown",
   "metadata": {},
   "source": [
    "Determining the number `NaN` values in our dataset is beneficial as it enables us to consider data clearning strategies, such as removing rows with missing values or implementing an imputation method to replace them.\n",
    "\n",
    "We can achieve this by calculating the mean across each column, where each `True` value (indicating `NaN`) is counted as `1``, and each `False` value is counted as `0`.\n",
    "\n",
    "Let's check the number of `NaN` values present in our data and take a close look at the basic statistics of our dataset."
   ]
  },
  {
   "cell_type": "code",
   "execution_count": 5,
   "metadata": {},
   "outputs": [
    {
     "data": {
      "text/html": [
       "<div>\n",
       "<style scoped>\n",
       "    .dataframe tbody tr th:only-of-type {\n",
       "        vertical-align: middle;\n",
       "    }\n",
       "\n",
       "    .dataframe tbody tr th {\n",
       "        vertical-align: top;\n",
       "    }\n",
       "\n",
       "    .dataframe thead th {\n",
       "        text-align: right;\n",
       "    }\n",
       "</style>\n",
       "<table border=\"1\" class=\"dataframe\">\n",
       "  <thead>\n",
       "    <tr style=\"text-align: right;\">\n",
       "      <th></th>\n",
       "      <th>LogDate</th>\n",
       "      <th>NO</th>\n",
       "      <th>NO2</th>\n",
       "      <th>NOX</th>\n",
       "      <th>O3</th>\n",
       "      <th>PM10</th>\n",
       "      <th>PM2.5</th>\n",
       "      <th>SO2</th>\n",
       "      <th>WIND</th>\n",
       "      <th>WINDS</th>\n",
       "    </tr>\n",
       "  </thead>\n",
       "  <tbody>\n",
       "    <tr>\n",
       "      <th>0</th>\n",
       "      <td>False</td>\n",
       "      <td>True</td>\n",
       "      <td>True</td>\n",
       "      <td>True</td>\n",
       "      <td>True</td>\n",
       "      <td>True</td>\n",
       "      <td>True</td>\n",
       "      <td>True</td>\n",
       "      <td>True</td>\n",
       "      <td>True</td>\n",
       "    </tr>\n",
       "    <tr>\n",
       "      <th>1</th>\n",
       "      <td>False</td>\n",
       "      <td>False</td>\n",
       "      <td>False</td>\n",
       "      <td>False</td>\n",
       "      <td>True</td>\n",
       "      <td>False</td>\n",
       "      <td>False</td>\n",
       "      <td>False</td>\n",
       "      <td>False</td>\n",
       "      <td>False</td>\n",
       "    </tr>\n",
       "    <tr>\n",
       "      <th>2</th>\n",
       "      <td>False</td>\n",
       "      <td>False</td>\n",
       "      <td>False</td>\n",
       "      <td>False</td>\n",
       "      <td>True</td>\n",
       "      <td>False</td>\n",
       "      <td>False</td>\n",
       "      <td>False</td>\n",
       "      <td>False</td>\n",
       "      <td>False</td>\n",
       "    </tr>\n",
       "    <tr>\n",
       "      <th>3</th>\n",
       "      <td>False</td>\n",
       "      <td>False</td>\n",
       "      <td>False</td>\n",
       "      <td>False</td>\n",
       "      <td>True</td>\n",
       "      <td>False</td>\n",
       "      <td>False</td>\n",
       "      <td>False</td>\n",
       "      <td>False</td>\n",
       "      <td>False</td>\n",
       "    </tr>\n",
       "    <tr>\n",
       "      <th>4</th>\n",
       "      <td>False</td>\n",
       "      <td>False</td>\n",
       "      <td>False</td>\n",
       "      <td>False</td>\n",
       "      <td>True</td>\n",
       "      <td>False</td>\n",
       "      <td>False</td>\n",
       "      <td>False</td>\n",
       "      <td>False</td>\n",
       "      <td>False</td>\n",
       "    </tr>\n",
       "  </tbody>\n",
       "</table>\n",
       "</div>"
      ],
      "text/plain": [
       "   LogDate     NO    NO2    NOX    O3   PM10  PM2.5    SO2   WIND  WINDS\n",
       "0    False   True   True   True  True   True   True   True   True   True\n",
       "1    False  False  False  False  True  False  False  False  False  False\n",
       "2    False  False  False  False  True  False  False  False  False  False\n",
       "3    False  False  False  False  True  False  False  False  False  False\n",
       "4    False  False  False  False  True  False  False  False  False  False"
      ]
     },
     "execution_count": 5,
     "metadata": {},
     "output_type": "execute_result"
    }
   ],
   "source": [
    "df.isna().head()"
   ]
  },
  {
   "cell_type": "markdown",
   "metadata": {},
   "source": [
    "Internally, Pandas interprets boolean values as `0` for `False` and `1` for `True`. This means that when we calculate the average, or `.mean()`, across these boolean values, we are effectively computing the proportion of non-`NaN` values of each column."
   ]
  },
  {
   "cell_type": "code",
   "execution_count": 6,
   "metadata": {},
   "outputs": [
    {
     "data": {
      "text/plain": [
       "LogDate    0.000000\n",
       "NO         0.401024\n",
       "NO2        0.543959\n",
       "NOX        0.393788\n",
       "O3         0.679317\n",
       "PM10       0.158294\n",
       "PM2.5      0.546075\n",
       "SO2        0.705734\n",
       "WIND       0.471058\n",
       "WINDS      0.471058\n",
       "dtype: float64"
      ]
     },
     "execution_count": 6,
     "metadata": {},
     "output_type": "execute_result"
    }
   ],
   "source": [
    "df.isna().mean()"
   ]
  },
  {
   "cell_type": "markdown",
   "metadata": {},
   "source": [
    "From this simple analysis, it is evident that `N02`, `O3`, and `SO2` fields have over 50% missing data. It is worth considering the exclusion of the features from any subsequent modeling, as such high levels of missing data could introduce noise that negatively impacts the quality of the model."
   ]
  },
  {
   "cell_type": "markdown",
   "metadata": {},
   "source": [
    "## Data Cleaning"
   ]
  },
  {
   "cell_type": "markdown",
   "metadata": {},
   "source": []
  }
 ],
 "metadata": {
  "kernelspec": {
   "display_name": "Python 3",
   "language": "python",
   "name": "python3"
  },
  "language_info": {
   "codemirror_mode": {
    "name": "ipython",
    "version": 3
   },
   "file_extension": ".py",
   "mimetype": "text/x-python",
   "name": "python",
   "nbconvert_exporter": "python",
   "pygments_lexer": "ipython3",
   "version": "3.11.5"
  }
 },
 "nbformat": 4,
 "nbformat_minor": 2
}
